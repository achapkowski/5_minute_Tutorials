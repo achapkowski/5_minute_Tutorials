{
 "cells": [
  {
   "cell_type": "markdown",
   "id": "36cbffc7",
   "metadata": {},
   "source": [
    "# Gathering Logs from Server and Portal"
   ]
  },
  {
   "cell_type": "markdown",
   "id": "7ee2ffa7",
   "metadata": {},
   "source": [
    "\n",
    "<img src=\"./imgs/captains-log.jpg\"/>\n",
    "\n",
    "Often times when working with server and portal, you need to exmine log files.  These files are accessed from the administration endpoints of the Pyton API."
   ]
  },
  {
   "cell_type": "markdown",
   "id": "1504562c",
   "metadata": {},
   "source": [
    "### What are logs for?"
   ]
  },
  {
   "cell_type": "markdown",
   "id": "a529c3bc",
   "metadata": {},
   "source": [
    "- a historical record of everything and anything that happens within a system\n",
    "- help track events on the system\n",
    "- help administrators analyze problems\n",
    "- detect common mistakes users make"
   ]
  },
  {
   "cell_type": "markdown",
   "id": "fd3a73cf",
   "metadata": {},
   "source": [
    "### Accessing the Log Endpoints"
   ]
  },
  {
   "cell_type": "markdown",
   "id": "3e5126c8",
   "metadata": {},
   "source": [
    "For this notebook, I will be using an ArcGIS Enterprise configuration with multiple `servers`."
   ]
  },
  {
   "cell_type": "code",
   "execution_count": null,
   "id": "74563c1f",
   "metadata": {},
   "outputs": [],
   "source": [
    "from __future__ import annotations\n",
    "from arcgis.gis import GIS\n",
    "from arcgis.gis.admin import PortalAdminManager\n",
    "from arcgis.gis.admin._logs import Logs\n",
    "import datetime as _dt\n",
    "from typing import Any\n",
    "import pandas as pd"
   ]
  },
  {
   "cell_type": "code",
   "execution_count": null,
   "id": "63aa8ffb",
   "metadata": {},
   "outputs": [],
   "source": [
    "gis:GIS = GIS(profile='your_dev_enterprise_profile')\n",
    "admin:PortalAdminManager = gis.admin"
   ]
  },
  {
   "cell_type": "markdown",
   "id": "87e52016",
   "metadata": {},
   "source": [
    "#### Getting the Enterprise Logs"
   ]
  },
  {
   "cell_type": "code",
   "execution_count": null,
   "id": "a79a6387",
   "metadata": {},
   "outputs": [],
   "source": [
    "logs:Logs =admin.logs\n",
    "logs"
   ]
  },
  {
   "cell_type": "markdown",
   "id": "9b7aac9b",
   "metadata": {},
   "source": [
    "#### Log Properties"
   ]
  },
  {
   "cell_type": "markdown",
   "id": "93f7e4dc",
   "metadata": {},
   "source": [
    "The `admin.logs` enpoint provides access into the Enterprise's logs management system. The `Logs` can do the follow: `clean` or `query` the log files.\n",
    "\n",
    "- clean: erases all the logs on the system\n",
    "- query: allows administrators to examine/find log data"
   ]
  },
  {
   "cell_type": "code",
   "execution_count": null,
   "id": "733bed1a",
   "metadata": {},
   "outputs": [],
   "source": [
    "start_date:_dt.datetime = _dt.datetime.now()\n",
    "end_date:_dt.datetime = start_date - _dt.timedelta(days=2)\n",
    "log_data:list = logs.query(\n",
    "    start_time=start_date,\n",
    "    end_time=end_date,\n",
    "    page_size=1000,\n",
    ")"
   ]
  },
  {
   "cell_type": "code",
   "execution_count": null,
   "id": "8f714849",
   "metadata": {},
   "outputs": [],
   "source": [
    "df = pd.DataFrame(data=log_data['logMessages'])"
   ]
  },
  {
   "cell_type": "markdown",
   "id": "153bc9a0",
   "metadata": {},
   "source": [
    "##### Example: Examining Source of Errors"
   ]
  },
  {
   "cell_type": "code",
   "execution_count": null,
   "id": "31b8354c",
   "metadata": {
    "scrolled": false
   },
   "outputs": [],
   "source": [
    "df.source.value_counts().plot(kind='barh')"
   ]
  },
  {
   "cell_type": "markdown",
   "id": "b63b9c07",
   "metadata": {},
   "source": [
    "Each log entry contains a wealth of information from where the error originated from to details on what caused the error.   "
   ]
  },
  {
   "cell_type": "markdown",
   "id": "fa19931c",
   "metadata": {},
   "source": [
    "#### Gathering Server Logs"
   ]
  },
  {
   "cell_type": "markdown",
   "id": "4d87ccbb",
   "metadata": {},
   "source": [
    "Since this enterprise configuration has multiple servers, a dictionary will be used to hold each `server`'s log manager object."
   ]
  },
  {
   "cell_type": "code",
   "execution_count": null,
   "id": "4f600863",
   "metadata": {},
   "outputs": [],
   "source": [
    "admin_server_logs:dict = {server.url: server.logs for server in admin.servers.list()}"
   ]
  },
  {
   "cell_type": "code",
   "execution_count": null,
   "id": "33b05458",
   "metadata": {},
   "outputs": [],
   "source": [
    "frames:dict = {}\n",
    "for k,log in admin_server_logs.items():\n",
    "    print(f\"Working on server: {k}\")\n",
    "    frames[k] = pd.DataFrame(data=log.query(start_time=start_date, end_time=end_date)['logMessages'])"
   ]
  },
  {
   "cell_type": "code",
   "execution_count": null,
   "id": "fd5d7ea4",
   "metadata": {},
   "outputs": [],
   "source": [
    "key:str = list(admin_server_logs.keys())[1]\n",
    "frames[key].type.value_counts().plot(kind='bar')"
   ]
  },
  {
   "cell_type": "markdown",
   "id": "bc83dddf",
   "metadata": {
    "heading_collapsed": true
   },
   "source": [
    "## Wrapping up"
   ]
  },
  {
   "cell_type": "markdown",
   "id": "fa2b7c60",
   "metadata": {
    "hidden": true
   },
   "source": [
    "The log endpoint provide a wealth of information. Explore your data, understand it, and it will help you solve problems on your configurations. "
   ]
  },
  {
   "cell_type": "markdown",
   "id": "1797d2f3",
   "metadata": {
    "hidden": true
   },
   "source": [
    "<img src=\"./imgs/logwell.png\"/>"
   ]
  }
 ],
 "metadata": {
  "kernelspec": {
   "display_name": "Python 3 (ipykernel)",
   "language": "python",
   "name": "python3"
  },
  "language_info": {
   "codemirror_mode": {
    "name": "ipython",
    "version": 3
   },
   "file_extension": ".py",
   "mimetype": "text/x-python",
   "name": "python",
   "nbconvert_exporter": "python",
   "pygments_lexer": "ipython3",
   "version": "3.9.16"
  }
 },
 "nbformat": 4,
 "nbformat_minor": 5
}
