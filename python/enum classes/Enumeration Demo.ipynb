{
 "cells": [
  {
   "cell_type": "markdown",
   "metadata": {},
   "source": [
    "# Working with Enumerations"
   ]
  },
  {
   "cell_type": "markdown",
   "metadata": {
    "heading_collapsed": true
   },
   "source": [
    "##  What is Enumeration?"
   ]
  },
  {
   "cell_type": "markdown",
   "metadata": {
    "hidden": true
   },
   "source": [
    "An enumeration is a set of symbolic names (members) bound to unique, constant values. Within an enumeration, the members can be compared by identity, and the enumeration itself can be iterated over."
   ]
  },
  {
   "cell_type": "markdown",
   "metadata": {
    "hidden": true
   },
   "source": [
    "- `enumeration` was introduced in Python **3.4**\n",
    "- It helps you deal with constants in a programmatic manner"
   ]
  },
  {
   "cell_type": "markdown",
   "metadata": {},
   "source": [
    "## The `enum` Module"
   ]
  },
  {
   "cell_type": "markdown",
   "metadata": {},
   "source": [
    "The module defines four enumeration classes:\n",
    "\n",
    "   1. Enum - base class for creating enumerated constants\n",
    "   2. IntEnum - base class for creating `int` based enums\n",
    "   3. Flag - base class for creating enum constants that can be combined using the bitwise operations without losing their Flag membership\n",
    "   4. IntFlag - base class for creating enumerated constants that can be combined using the bitwise operators without losing their IntFlag membership \n",
    "\n",
    "    + contains a decorator: `unique`\n",
    "    + one helper, `auto`."
   ]
  },
  {
   "cell_type": "markdown",
   "metadata": {},
   "source": [
    "### Creating a Simple `enum`\n",
    "\n",
    "- inherit from the base class\n",
    "- start defining values\n",
    "\n"
   ]
  },
  {
   "cell_type": "code",
   "execution_count": 2,
   "metadata": {},
   "outputs": [],
   "source": [
    "import enum\n",
    "class FirstEnum(enum.Enum):\n",
    "    CAT = 1\n",
    "    DOG = 2"
   ]
  },
  {
   "cell_type": "code",
   "execution_count": 3,
   "metadata": {},
   "outputs": [
    {
     "data": {
      "text/plain": [
       "<FirstEnum.CAT: 1>"
      ]
     },
     "execution_count": 3,
     "metadata": {},
     "output_type": "execute_result"
    }
   ],
   "source": [
    "FirstEnum.CAT"
   ]
  },
  {
   "cell_type": "markdown",
   "metadata": {},
   "source": [
    "### Autogenerating Values\n",
    "\n",
    "- before the class defined the enum values, but if you do not care, you can automatically generate the values using `auto`\n"
   ]
  },
  {
   "cell_type": "code",
   "execution_count": 4,
   "metadata": {},
   "outputs": [],
   "source": [
    "from enum import Enum, auto\n",
    "class SecondEnum(Enum):\n",
    "    CAT = auto()\n",
    "    DOG = auto()"
   ]
  },
  {
   "cell_type": "code",
   "execution_count": 5,
   "metadata": {},
   "outputs": [
    {
     "data": {
      "text/plain": [
       "<SecondEnum.DOG: 2>"
      ]
     },
     "execution_count": 5,
     "metadata": {},
     "output_type": "execute_result"
    }
   ],
   "source": [
    "SecondEnum.DOG"
   ]
  },
  {
   "cell_type": "markdown",
   "metadata": {},
   "source": [
    "Notice that `SecondEnum.DOG` was given the value of **2** automatically"
   ]
  },
  {
   "cell_type": "markdown",
   "metadata": {},
   "source": [
    "### Modifying the Autogenerator Values"
   ]
  },
  {
   "cell_type": "markdown",
   "metadata": {},
   "source": [
    "**Scenerio**: Need the `auto` to assign the value as the `enum` value.\n"
   ]
  },
  {
   "cell_type": "code",
   "execution_count": 7,
   "metadata": {},
   "outputs": [],
   "source": [
    "from enum import Enum, auto\n",
    "class AutoEnum(Enum):\n",
    "    def _generate_next_value_(name, start, count, last_values):\n",
    "        return name\n",
    "\n",
    "class ThirdEnum(AutoEnum):\n",
    "    CAT = auto()\n",
    "    DOG = auto()"
   ]
  },
  {
   "cell_type": "code",
   "execution_count": 8,
   "metadata": {},
   "outputs": [
    {
     "data": {
      "text/plain": [
       "<ThirdEnum.CAT: 'CAT'>"
      ]
     },
     "execution_count": 8,
     "metadata": {},
     "output_type": "execute_result"
    }
   ],
   "source": [
    "ThirdEnum.CAT"
   ]
  },
  {
   "cell_type": "markdown",
   "metadata": {},
   "source": [
    "Now the `CAT` enum value is a string named `CAT`."
   ]
  },
  {
   "cell_type": "markdown",
   "metadata": {},
   "source": [
    "## Improving ArcPy with Enums"
   ]
  },
  {
   "cell_type": "markdown",
   "metadata": {},
   "source": [
    "- `ArcPy` is made up of thousands of methods and classes\n",
    "- Each input has a set of constants that require strings to be given\n",
    "\n",
    "#### Scenario: Create a enum class to assist with ArcPy's analysis "
   ]
  },
  {
   "cell_type": "code",
   "execution_count": 29,
   "metadata": {},
   "outputs": [],
   "source": [
    "from arcpy.analysis import Buffer, Erase\n",
    "from arcpy import env\n",
    "import arcpy, os"
   ]
  },
  {
   "cell_type": "code",
   "execution_count": 20,
   "metadata": {},
   "outputs": [],
   "source": [
    "arcpy.analysis.Erase?"
   ]
  },
  {
   "cell_type": "code",
   "execution_count": 16,
   "metadata": {},
   "outputs": [],
   "source": [
    "class ArcPyLineSide(Enum):\n",
    "    FULL = \"FULL\"\n",
    "    LEFT = \"LEFT\"\n",
    "    RIGHT = \"RIGHT\"\n",
    "    OUTSIDE = \"OUTSIDE_ONLY\"\n",
    "class ArcPyDissolve(Enum):\n",
    "    NONE = \"NONE\"\n",
    "    ALL = \"ALL\"\n",
    "    LIST = \"LIST\"\n"
   ]
  },
  {
   "cell_type": "code",
   "execution_count": 30,
   "metadata": {},
   "outputs": [],
   "source": [
    "def myworkflow(buffer_fc:str,\n",
    "               erased_fc:str,\n",
    "               out_fc:str=None,\n",
    "               distance:float=10,\n",
    "               unit:str=\"meters\",\n",
    "               line_side:ArcPyLineSide=ArcPyLineSide.FULL,\n",
    "               dissolve:ArcPyDissolve=ArcPyDissolve.ALL):\n",
    "    \"\"\"This is a workflow that buffers then removes an area based on geometry.\n",
    "    \n",
    "    :retrns: String (output feature class)\n",
    "    \"\"\"\n",
    "    buffer_fc = Buffer(\n",
    "                        in_features=buffer_fc,\n",
    "                        out_feature_class=os.path.join(\"memory\", \"buffered\"),\n",
    "                        buffer_distance_or_field=f\"{distance} {unit}\",\n",
    "                        line_side=line_side.value,\n",
    "                        line_end_type=None,\n",
    "                        dissolve_option=dissolve.value,\n",
    "                        dissolve_field=None,\n",
    "                        method=None\n",
    "    )[0]\n",
    "    erase_fc = Erase(\n",
    "                    in_features=erased_fc,\n",
    "                    erase_features=buffer_fc,\n",
    "                    out_feature_class=out_fc)[0]\n",
    "    return erase_fc"
   ]
  },
  {
   "cell_type": "code",
   "execution_count": 31,
   "metadata": {},
   "outputs": [
    {
     "data": {
      "text/plain": [
       "'./data\\\\districts_Erase.shp'"
      ]
     },
     "execution_count": 31,
     "metadata": {},
     "output_type": "execute_result"
    }
   ],
   "source": [
    "myworkflow(buffer_fc=r\"./data/Maryland_Restaurants_2019.shp\", erased_fc=\"./data/districts.shp\")"
   ]
  },
  {
   "cell_type": "markdown",
   "metadata": {},
   "source": [
    "### Wrap Up\n",
    "\n",
    "<img src=\"./img/enum-all-the-strings.jpg\" />\n",
    "\n",
    "\n",
    "1. Programmatically Figure out Constants\n",
    "2. Ensures constants are correct\n"
   ]
  }
 ],
 "metadata": {
  "kernelspec": {
   "display_name": "Python 3",
   "language": "python",
   "name": "python3"
  },
  "language_info": {
   "codemirror_mode": {
    "name": "ipython",
    "version": 3
   },
   "file_extension": ".py",
   "mimetype": "text/x-python",
   "name": "python",
   "nbconvert_exporter": "python",
   "pygments_lexer": "ipython3",
   "version": "3.6.10"
  }
 },
 "nbformat": 4,
 "nbformat_minor": 4
}
