{
 "cells": [
  {
   "cell_type": "markdown",
   "id": "c19ca24f",
   "metadata": {},
   "source": [
    "# Working with GeoPackages"
   ]
  },
  {
   "cell_type": "markdown",
   "id": "ed72f60f",
   "metadata": {},
   "source": [
    "<img src=\"./img/samwise.jpg\"/>"
   ]
  },
  {
   "cell_type": "markdown",
   "id": "8cf092ce",
   "metadata": {},
   "source": [
    "### What are GeoPackages?"
   ]
  },
  {
   "cell_type": "markdown",
   "id": "2ec5211b",
   "metadata": {},
   "source": [
    "GeoPackage is an open, standards-based, platform-independent, portable, self-describing, compact format for transferring geospatial information.\n",
    "\n",
    "- It's a sqlite container holding geospatial information\n",
    "- Find out about geopackages here: https://www.geopackage.org/"
   ]
  },
  {
   "cell_type": "markdown",
   "id": "350af681",
   "metadata": {},
   "source": [
    "### Using GeoPackages in Your `GIS`"
   ]
  },
  {
   "cell_type": "markdown",
   "id": "16a7e7f1",
   "metadata": {},
   "source": [
    "To use a geopackage, all you need to do is `add` and `publish` it.  Let's see how..."
   ]
  },
  {
   "cell_type": "markdown",
   "id": "8bd19015",
   "metadata": {},
   "source": [
    "#### Setup the Environment"
   ]
  },
  {
   "cell_type": "code",
   "execution_count": 1,
   "id": "951763d7",
   "metadata": {},
   "outputs": [],
   "source": [
    "from arcgis.gis import GIS"
   ]
  },
  {
   "cell_type": "code",
   "execution_count": 2,
   "id": "8c68207e",
   "metadata": {},
   "outputs": [],
   "source": [
    "gis = GIS(profile='creator_account')"
   ]
  },
  {
   "cell_type": "markdown",
   "id": "62d9d73b",
   "metadata": {},
   "source": [
    "#### Upload the GeoPackage"
   ]
  },
  {
   "cell_type": "markdown",
   "id": "67608a41",
   "metadata": {},
   "source": [
    "In this step we will access the `ContentManager` and then `add` the GeoPackage."
   ]
  },
  {
   "cell_type": "markdown",
   "id": "9dc20464",
   "metadata": {},
   "source": [
    "The data used in this tutorial comes from the Minnesota Geospatial Commons (https://gisdata.mn.gov/dataset/trans-state-trails-minnesota).  Anyone can download the `gpkg` file from the site and use it to follow along. "
   ]
  },
  {
   "cell_type": "code",
   "execution_count": 4,
   "id": "09be709c",
   "metadata": {},
   "outputs": [],
   "source": [
    "geopackage_item = gis.content.add(\n",
    "    item_properties={\"title\": \"Minnesota Trails\", \n",
    "                     \"type\": \"GeoPackage\"},\n",
    "    data=r\"c:/temp/geopackage/trans_state_trails_minnesota.gpkg\",\n",
    ")"
   ]
  },
  {
   "cell_type": "code",
   "execution_count": 5,
   "id": "9c77cf0a",
   "metadata": {},
   "outputs": [
    {
     "data": {
      "text/html": [
       "<div class=\"item_container\" style=\"height: auto; overflow: hidden; border: 1px solid #cfcfcf; border-radius: 2px; background: #f6fafa; line-height: 1.21429em; padding: 10px;\">\n",
       "                    <div class=\"item_left\" style=\"width: 210px; float: left;\">\n",
       "                       <a href='https://geosaurus.maps.arcgis.com/home/item.html?id=720954807d8e4385816d74d3208773a0' target='_blank'>\n",
       "                        <img src='http://static.arcgis.com/images/desktopapp.png' class=\"itemThumbnail\">\n",
       "                       </a>\n",
       "                    </div>\n",
       "\n",
       "                    <div class=\"item_right\"     style=\"float: none; width: auto; overflow: hidden;\">\n",
       "                        <a href='https://geosaurus.maps.arcgis.com/home/item.html?id=720954807d8e4385816d74d3208773a0' target='_blank'><b>Minnesota Trails</b>\n",
       "                        </a>\n",
       "                        <br/><img src='https://geosaurus.maps.arcgis.com/home/js/jsapi/esri/css/images/item_type_icons/layers16.png' style=\"vertical-align:middle;\">GeoPackage by creatoraccount\n",
       "                        <br/>Last Modified: July 14, 2022\n",
       "                        <br/>0 comments, 0 views\n",
       "                    </div>\n",
       "                </div>\n",
       "                "
      ],
      "text/plain": [
       "<Item title:\"Minnesota Trails\" type:GeoPackage owner:creatoraccount>"
      ]
     },
     "execution_count": 5,
     "metadata": {},
     "output_type": "execute_result"
    }
   ],
   "source": [
    "geopackage_item"
   ]
  },
  {
   "cell_type": "markdown",
   "id": "6c702d98",
   "metadata": {},
   "source": [
    "#### Publishing as a Hosted Feature Service"
   ]
  },
  {
   "cell_type": "code",
   "execution_count": 6,
   "id": "2b83a1dc",
   "metadata": {},
   "outputs": [
    {
     "data": {
      "text/html": [
       "<div class=\"item_container\" style=\"height: auto; overflow: hidden; border: 1px solid #cfcfcf; border-radius: 2px; background: #f6fafa; line-height: 1.21429em; padding: 10px;\">\n",
       "                    <div class=\"item_left\" style=\"width: 210px; float: left;\">\n",
       "                       <a href='https://geosaurus.maps.arcgis.com/home/item.html?id=3f1f224840de43eb8f3a5d528bd2009a' target='_blank'>\n",
       "                        <img src='http://static.arcgis.com/images/desktopapp.png' class=\"itemThumbnail\">\n",
       "                       </a>\n",
       "                    </div>\n",
       "\n",
       "                    <div class=\"item_right\"     style=\"float: none; width: auto; overflow: hidden;\">\n",
       "                        <a href='https://geosaurus.maps.arcgis.com/home/item.html?id=3f1f224840de43eb8f3a5d528bd2009a' target='_blank'><b>Minnesota Trails</b>\n",
       "                        </a>\n",
       "                        <br/><img src='https://geosaurus.maps.arcgis.com/home/js/jsapi/esri/css/images/item_type_icons/featureshosted16.png' style=\"vertical-align:middle;\">Feature Layer Collection by creatoraccount\n",
       "                        <br/>Last Modified: July 14, 2022\n",
       "                        <br/>0 comments, 0 views\n",
       "                    </div>\n",
       "                </div>\n",
       "                "
      ],
      "text/plain": [
       "<Item title:\"Minnesota Trails\" type:Feature Layer Collection owner:creatoraccount>"
      ]
     },
     "execution_count": 6,
     "metadata": {},
     "output_type": "execute_result"
    }
   ],
   "source": [
    "pitem = geopackage_item.publish(\n",
    "    publish_parameters={\"name\": \"State_Trails_of_MN_FS\", \n",
    "                        \"maxRecordCount\": 2000},\n",
    "    file_type='geoPackage')\n",
    "pitem"
   ]
  },
  {
   "cell_type": "markdown",
   "id": "43f23da9",
   "metadata": {},
   "source": [
    "#### Examine the Results"
   ]
  },
  {
   "cell_type": "code",
   "execution_count": 7,
   "id": "5f427f40",
   "metadata": {},
   "outputs": [
    {
     "data": {
      "text/html": [
       "<div>\n",
       "<style scoped>\n",
       "    .dataframe tbody tr th:only-of-type {\n",
       "        vertical-align: middle;\n",
       "    }\n",
       "\n",
       "    .dataframe tbody tr th {\n",
       "        vertical-align: top;\n",
       "    }\n",
       "\n",
       "    .dataframe thead th {\n",
       "        text-align: right;\n",
       "    }\n",
       "</style>\n",
       "<table border=\"1\" class=\"dataframe\">\n",
       "  <thead>\n",
       "    <tr style=\"text-align: right;\">\n",
       "      <th></th>\n",
       "      <th>fid</th>\n",
       "      <th>trail_name</th>\n",
       "      <th>prgm_prj</th>\n",
       "      <th>alt_name</th>\n",
       "      <th>use_hike</th>\n",
       "      <th>use_hiking</th>\n",
       "      <th>use_selfgu</th>\n",
       "      <th>use_accpat</th>\n",
       "      <th>use_horse</th>\n",
       "      <th>use_bike</th>\n",
       "      <th>...</th>\n",
       "      <th>use_abando</th>\n",
       "      <th>other_com</th>\n",
       "      <th>interp</th>\n",
       "      <th>use_orv</th>\n",
       "      <th>surfacetyp</th>\n",
       "      <th>width</th>\n",
       "      <th>lengthmile</th>\n",
       "      <th>Shape_Leng</th>\n",
       "      <th>Shape__Length</th>\n",
       "      <th>SHAPE</th>\n",
       "    </tr>\n",
       "  </thead>\n",
       "  <tbody>\n",
       "    <tr>\n",
       "      <th>0</th>\n",
       "      <td>1</td>\n",
       "      <td>Taconite State Trail</td>\n",
       "      <td>TRA00702</td>\n",
       "      <td>&lt;NA&gt;</td>\n",
       "      <td>0</td>\n",
       "      <td>0</td>\n",
       "      <td>0</td>\n",
       "      <td>0</td>\n",
       "      <td>0</td>\n",
       "      <td>0</td>\n",
       "      <td>...</td>\n",
       "      <td>0</td>\n",
       "      <td>&lt;NA&gt;</td>\n",
       "      <td>0.0</td>\n",
       "      <td>0</td>\n",
       "      <td>&lt;NA&gt;</td>\n",
       "      <td>&lt;NA&gt;</td>\n",
       "      <td>0.002405</td>\n",
       "      <td>3.870848</td>\n",
       "      <td>5.745146</td>\n",
       "      <td>{\"paths\": [[[-10352418.15687, 6055516.18704605...</td>\n",
       "    </tr>\n",
       "    <tr>\n",
       "      <th>1</th>\n",
       "      <td>2</td>\n",
       "      <td>Taconite State Trail</td>\n",
       "      <td>TRA00702</td>\n",
       "      <td>&lt;NA&gt;</td>\n",
       "      <td>0</td>\n",
       "      <td>0</td>\n",
       "      <td>0</td>\n",
       "      <td>0</td>\n",
       "      <td>0</td>\n",
       "      <td>0</td>\n",
       "      <td>...</td>\n",
       "      <td>0</td>\n",
       "      <td>&lt;NA&gt;</td>\n",
       "      <td>0.0</td>\n",
       "      <td>0</td>\n",
       "      <td>&lt;NA&gt;</td>\n",
       "      <td>&lt;NA&gt;</td>\n",
       "      <td>0.00106</td>\n",
       "      <td>1.706447</td>\n",
       "      <td>2.541321</td>\n",
       "      <td>{\"paths\": [[[-10286819.2902718, 6068372.834177...</td>\n",
       "    </tr>\n",
       "    <tr>\n",
       "      <th>2</th>\n",
       "      <td>3</td>\n",
       "      <td>Taconite State Trail</td>\n",
       "      <td>TRA00702</td>\n",
       "      <td>&lt;NA&gt;</td>\n",
       "      <td>0</td>\n",
       "      <td>0</td>\n",
       "      <td>0</td>\n",
       "      <td>0</td>\n",
       "      <td>0</td>\n",
       "      <td>0</td>\n",
       "      <td>...</td>\n",
       "      <td>0</td>\n",
       "      <td>&lt;NA&gt;</td>\n",
       "      <td>0.0</td>\n",
       "      <td>0</td>\n",
       "      <td>&lt;NA&gt;</td>\n",
       "      <td>&lt;NA&gt;</td>\n",
       "      <td>0.001401</td>\n",
       "      <td>2.254018</td>\n",
       "      <td>3.353354</td>\n",
       "      <td>{\"paths\": [[[-10372680.49031, 6055597.4850418]...</td>\n",
       "    </tr>\n",
       "    <tr>\n",
       "      <th>3</th>\n",
       "      <td>4</td>\n",
       "      <td>Glacial Lakes State Trail</td>\n",
       "      <td>TRA00715</td>\n",
       "      <td>&lt;NA&gt;</td>\n",
       "      <td>0</td>\n",
       "      <td>0</td>\n",
       "      <td>0</td>\n",
       "      <td>0</td>\n",
       "      <td>0</td>\n",
       "      <td>0</td>\n",
       "      <td>...</td>\n",
       "      <td>0</td>\n",
       "      <td>&lt;NA&gt;</td>\n",
       "      <td>0.0</td>\n",
       "      <td>0</td>\n",
       "      <td>&lt;NA&gt;</td>\n",
       "      <td>&lt;NA&gt;</td>\n",
       "      <td>0.001442</td>\n",
       "      <td>2.321078</td>\n",
       "      <td>3.299367</td>\n",
       "      <td>{\"paths\": [[[-10564741.3309487, 5670908.752020...</td>\n",
       "    </tr>\n",
       "    <tr>\n",
       "      <th>4</th>\n",
       "      <td>5</td>\n",
       "      <td>Taconite State Trail</td>\n",
       "      <td>TRA00702</td>\n",
       "      <td>&lt;NA&gt;</td>\n",
       "      <td>0</td>\n",
       "      <td>0</td>\n",
       "      <td>0</td>\n",
       "      <td>0</td>\n",
       "      <td>0</td>\n",
       "      <td>0</td>\n",
       "      <td>...</td>\n",
       "      <td>0</td>\n",
       "      <td>&lt;NA&gt;</td>\n",
       "      <td>0.0</td>\n",
       "      <td>0</td>\n",
       "      <td>&lt;NA&gt;</td>\n",
       "      <td>&lt;NA&gt;</td>\n",
       "      <td>0.000364</td>\n",
       "      <td>0.585599</td>\n",
       "      <td>0.869871</td>\n",
       "      <td>{\"paths\": [[[-10383588.6177526, 6041161.420675...</td>\n",
       "    </tr>\n",
       "  </tbody>\n",
       "</table>\n",
       "<p>5 rows × 30 columns</p>\n",
       "</div>"
      ],
      "text/plain": [
       "   fid                 trail_name  prgm_prj alt_name  use_hike  use_hiking  \\\n",
       "0    1       Taconite State Trail  TRA00702     <NA>         0           0   \n",
       "1    2       Taconite State Trail  TRA00702     <NA>         0           0   \n",
       "2    3       Taconite State Trail  TRA00702     <NA>         0           0   \n",
       "3    4  Glacial Lakes State Trail  TRA00715     <NA>         0           0   \n",
       "4    5       Taconite State Trail  TRA00702     <NA>         0           0   \n",
       "\n",
       "   use_selfgu  use_accpat  use_horse  use_bike  ...  use_abando  other_com  \\\n",
       "0           0           0          0         0  ...           0       <NA>   \n",
       "1           0           0          0         0  ...           0       <NA>   \n",
       "2           0           0          0         0  ...           0       <NA>   \n",
       "3           0           0          0         0  ...           0       <NA>   \n",
       "4           0           0          0         0  ...           0       <NA>   \n",
       "\n",
       "   interp  use_orv  surfacetyp  width  lengthmile  Shape_Leng  Shape__Length  \\\n",
       "0     0.0        0        <NA>   <NA>    0.002405    3.870848       5.745146   \n",
       "1     0.0        0        <NA>   <NA>     0.00106    1.706447       2.541321   \n",
       "2     0.0        0        <NA>   <NA>    0.001401    2.254018       3.353354   \n",
       "3     0.0        0        <NA>   <NA>    0.001442    2.321078       3.299367   \n",
       "4     0.0        0        <NA>   <NA>    0.000364    0.585599       0.869871   \n",
       "\n",
       "                                               SHAPE  \n",
       "0  {\"paths\": [[[-10352418.15687, 6055516.18704605...  \n",
       "1  {\"paths\": [[[-10286819.2902718, 6068372.834177...  \n",
       "2  {\"paths\": [[[-10372680.49031, 6055597.4850418]...  \n",
       "3  {\"paths\": [[[-10564741.3309487, 5670908.752020...  \n",
       "4  {\"paths\": [[[-10383588.6177526, 6041161.420675...  \n",
       "\n",
       "[5 rows x 30 columns]"
      ]
     },
     "execution_count": 7,
     "metadata": {},
     "output_type": "execute_result"
    }
   ],
   "source": [
    "pitem.layers[0].query(as_df=True).head()"
   ]
  },
  {
   "cell_type": "code",
   "execution_count": 8,
   "id": "dc672b7f",
   "metadata": {},
   "outputs": [
    {
     "data": {
      "application/vnd.jupyter.widget-view+json": {
       "model_id": "0b8c3042cf88404bb3c4ca3952b50d53",
       "version_major": 2,
       "version_minor": 0
      },
      "text/plain": [
       "MapView(layout=Layout(height='400px', width='100%'))"
      ]
     },
     "metadata": {},
     "output_type": "display_data"
    },
    {
     "data": {
      "text/html": [
       "<div class=\"map-static-img-preview-97191aee-3971-4964-85a2-90ee030c39b6\"><img src=\"\"></img></div>"
      ],
      "text/plain": [
       "<IPython.core.display.HTML object>"
      ]
     },
     "metadata": {},
     "output_type": "display_data"
    },
    {
     "data": {
      "text/html": [
       "<div class=\"map-html-embed-preview-97191aee-3971-4964-85a2-90ee030c39b6\"></div>"
      ],
      "text/plain": [
       "<IPython.core.display.HTML object>"
      ]
     },
     "metadata": {},
     "output_type": "display_data"
    }
   ],
   "source": [
    "m = gis.map('Minnesota, USA')\n",
    "m.basemap = 'gray-vector'\n",
    "m"
   ]
  },
  {
   "cell_type": "code",
   "execution_count": 9,
   "id": "023d4eaf",
   "metadata": {},
   "outputs": [],
   "source": [
    "m.add_layer(pitem)"
   ]
  },
  {
   "cell_type": "markdown",
   "id": "d394a6da",
   "metadata": {},
   "source": [
    "### Publishing OGC Service Endpoints"
   ]
  },
  {
   "cell_type": "markdown",
   "id": "56bee4d6",
   "metadata": {},
   "source": [
    "#### Creating OGC Feature Layers"
   ]
  },
  {
   "cell_type": "markdown",
   "id": "eb59f47e",
   "metadata": {},
   "source": [
    "If you need to publish the GeoPackage out to OGC standards, you can share out the dataset as a WFS or OGC Feature Layer.  The process will expose the new endpoints without republishing the data.\n",
    "\n",
    "To create the endpoint, specify the `output_type` to be `OGCFeatureService` and the `file_type` to be `featureService`.  Additionally `publish_parameters` can be provided to further customize the publishing results. "
   ]
  },
  {
   "cell_type": "code",
   "execution_count": null,
   "id": "dca95e5b",
   "metadata": {},
   "outputs": [],
   "source": [
    "ogc_fl = pitem.publish(output_type=\"OGCFeatureService\", \n",
    "                       file_type='featureService', \n",
    "                       publish_parameters={\"name\":\"Utah_Data_OGC\"})\n",
    "ogc_fl"
   ]
  },
  {
   "cell_type": "markdown",
   "id": "39365b0e",
   "metadata": {},
   "source": [
    "#### Create a WFS Endpoint"
   ]
  },
  {
   "cell_type": "markdown",
   "id": "aff78c74",
   "metadata": {},
   "source": [
    "From a feature service item, a user can publish a WFS service by calling the `publish` method.  The `file_type` and `output_type` should be specified as `featureService` and `WFS`.  \n",
    "\n",
    "The WFS common properties can be given in the publish parameters under the `wfsProperties` key.  If you want to specify the table name, use the `name` property to determine that.  The `name` cannot have **spaces** in it.  "
   ]
  },
  {
   "cell_type": "code",
   "execution_count": null,
   "id": "24f38a0b",
   "metadata": {},
   "outputs": [],
   "source": [
    "wfs = pitem.publish(output_type=\"WFS\", \n",
    "                    file_type='featureService', \n",
    "                    publish_parameters={\n",
    "                        \"name\":\"Sample_Utah_Data_As_WFS\",\n",
    "                        \"wfsProperties\":{\n",
    "                            \"title\":\"Sample Utah Data As WFS\",\n",
    "                            \"abstract\":\"\",\n",
    "                            \"keyword\":\"\"\n",
    "                        }\n",
    "                    }\n",
    "                   )\n",
    "wfs"
   ]
  },
  {
   "cell_type": "markdown",
   "id": "e4212377",
   "metadata": {},
   "source": [
    "### High Five!"
   ]
  },
  {
   "cell_type": "markdown",
   "id": "1dc3ae9c",
   "metadata": {},
   "source": [
    "<img src=\"./img/dog_high_five.jpg\"/>"
   ]
  }
 ],
 "metadata": {
  "kernelspec": {
   "display_name": "Python 3",
   "language": "python",
   "name": "python3"
  }
 },
 "nbformat": 4,
 "nbformat_minor": 5
}
