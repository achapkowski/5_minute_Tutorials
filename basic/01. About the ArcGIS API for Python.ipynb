{
 "cells": [
  {
   "cell_type": "markdown",
   "metadata": {},
   "source": [
    "# 5 Minute Tutorial Series"
   ]
  },
  {
   "cell_type": "markdown",
   "metadata": {
    "heading_collapsed": true
   },
   "source": [
    "## About the ArcGIS API for Python"
   ]
  },
  {
   "cell_type": "markdown",
   "metadata": {
    "hidden": true
   },
   "source": [
    "This is a Python package designed to work in `Python 3` and is not backwards compatible with `Python 2`. "
   ]
  },
  {
   "cell_type": "markdown",
   "metadata": {
    "hidden": true
   },
   "source": [
    "- The API is a collection of modules that perform multiple operations:\n",
    "    + feature analysis\n",
    "    + raster analysis\n",
    "    + geocoding\n",
    "    + network analysis\n",
    "    + deep learning\n",
    "    + content management\n",
    "    + site administration"
   ]
  },
  {
   "cell_type": "markdown",
   "metadata": {
    "heading_collapsed": true
   },
   "source": [
    "## Tell Me More"
   ]
  },
  {
   "cell_type": "markdown",
   "metadata": {
    "hidden": true
   },
   "source": [
    "<img src=\"./img/sowhat.jpg\"/>"
   ]
  },
  {
   "cell_type": "markdown",
   "metadata": {
    "hidden": true
   },
   "source": [
    "You might be thinking: **There are lots of API that do `geospatial` things.**\n",
    "\n",
    "While this is true, the API has many features over other `Python Packages`:\n",
    "\n",
    "    + It is designed to integrate across multiple platforms\n",
    "    + It is a single install and all functionality works together\n",
    "    + It can be powered by both open source packages and the arcpy package\n",
    "    + It is free to use\n",
    "    + Easy to use deep learning\n",
    "    + Access to a wealth of GeoSpatial Information\n",
    "    + Jupyter Widgets\n",
    "    + Spatially Enabled DataFrames"
   ]
  },
  {
   "cell_type": "markdown",
   "metadata": {
    "hidden": true
   },
   "source": [
    "#### Let's Import this Thing!"
   ]
  },
  {
   "cell_type": "code",
   "execution_count": 1,
   "metadata": {
    "hidden": true
   },
   "outputs": [],
   "source": [
    "import arcgis"
   ]
  },
  {
   "cell_type": "code",
   "execution_count": 2,
   "metadata": {
    "hidden": true
   },
   "outputs": [],
   "source": [
    "from arcgis.gis import GIS"
   ]
  },
  {
   "cell_type": "markdown",
   "metadata": {
    "hidden": true
   },
   "source": [
    "##### Connection to ArcGIS Online"
   ]
  },
  {
   "cell_type": "markdown",
   "metadata": {
    "hidden": true
   },
   "source": [
    "<img src=\"./img/cat_unicorn.jpg\"/>"
   ]
  },
  {
   "cell_type": "markdown",
   "metadata": {
    "hidden": true
   },
   "source": [
    "Like a magical unicorn, we will now connect to **ArcGIS Online**"
   ]
  },
  {
   "cell_type": "code",
   "execution_count": 3,
   "metadata": {
    "hidden": true
   },
   "outputs": [],
   "source": [
    "from arcgis.mapping import WebMap\n",
    "gis = GIS()\n",
    "parks = gis.content.search(\"NYC Parks - Brooklyn & Queens\", \"Feature Layer\")[0]"
   ]
  },
  {
   "cell_type": "code",
   "execution_count": 4,
   "metadata": {
    "hidden": true
   },
   "outputs": [
    {
     "data": {
      "application/vnd.jupyter.widget-view+json": {
       "model_id": "f2dc248d7d2a46a0b928e6110ec22876",
       "version_major": 2,
       "version_minor": 0
      },
      "text/plain": [
       "MapView(layout=Layout(height='400px', width='100%'))"
      ]
     },
     "metadata": {},
     "output_type": "display_data"
    },
    {
     "data": {
      "text/html": [
       "<div class=\"map-static-img-preview-97e67171-df24-4640-8dc7-8e740394d639\"><img src=\"\"></img></div>"
      ],
      "text/plain": [
       "<IPython.core.display.HTML object>"
      ]
     },
     "metadata": {},
     "output_type": "display_data"
    }
   ],
   "source": [
    "m = gis.map(\"Brooklyn, NY\")\n",
    "m.basemap = 'gray-vector'\n",
    "m.add_layer(parks)\n",
    "m"
   ]
  },
  {
   "cell_type": "markdown",
   "metadata": {
    "heading_collapsed": true
   },
   "source": [
    "## Ok... I'll Try it out... Tell me How?"
   ]
  },
  {
   "cell_type": "markdown",
   "metadata": {
    "hidden": true
   },
   "source": [
    "The API can be installed multiple ways.  In general the easiest way is to use either `pip` or `conda` to install the package."
   ]
  },
  {
   "cell_type": "markdown",
   "metadata": {
    "hidden": true
   },
   "source": [
    "### Using Conda"
   ]
  },
  {
   "cell_type": "markdown",
   "metadata": {
    "hidden": true
   },
   "source": [
    "`conda` is the Anacondas package manager.  Anacondas is a free and open source python package mainly used for scientific computing.  \n",
    "\n",
    "- has it's own package management system\n",
    "- create isolated environment\n",
    "- ability to clone existing environments"
   ]
  },
  {
   "cell_type": "markdown",
   "metadata": {
    "hidden": true
   },
   "source": [
    "#### `conda` command\n",
    "\n",
    "From command line, type the following:\n",
    "\n",
    "```\n",
    "conda install -c esri arcgis\n",
    "```\n",
    "\n",
    "This will install the package on your system."
   ]
  },
  {
   "cell_type": "markdown",
   "metadata": {
    "hidden": true
   },
   "source": [
    "### Using PIP"
   ]
  },
  {
   "cell_type": "markdown",
   "metadata": {
    "hidden": true
   },
   "source": [
    "`pip` is the traditional package installation tool that comes with Python.  \n",
    "\n",
    "- It is considered the main package manager for python\n",
    "- It has been around for a long time\n"
   ]
  },
  {
   "cell_type": "markdown",
   "metadata": {
    "hidden": true
   },
   "source": [
    "#### pip command\n",
    "\n",
    "From command line type the following:\n",
    "\n",
    "```\n",
    "pip install arcgis\n",
    "```\n",
    "\n",
    "This should install the package.\n",
    "\n"
   ]
  },
  {
   "cell_type": "markdown",
   "metadata": {
    "hidden": true
   },
   "source": [
    "### Exploring Python Packages\n",
    "\n",
    "Beyond the `ArcGIS API for Python`, there is a robust collection of Python Packages.  The official place to host these packages is on PyPi.  \n",
    "\n",
    "- PyPi is [this](https://pypi.org/)\n",
    "\n"
   ]
  },
  {
   "cell_type": "markdown",
   "metadata": {
    "hidden": true
   },
   "source": [
    "#### PyPi Distribution of Packages\n",
    "\n",
    "When we used pip install to install the Python API, we went to the PyPi server downloaded the package and installed it to the system's environment.  This is how installation works in Python.  \n",
    "\n",
    "Once the package is installed, the code can `import` that package into your Python environment."
   ]
  }
 ],
 "metadata": {
  "kernelspec": {
   "display_name": "Python 3",
   "language": "python",
   "name": "python3"
  },
  "language_info": {
   "codemirror_mode": {
    "name": "ipython",
    "version": 3
   },
   "file_extension": ".py",
   "mimetype": "text/x-python",
   "name": "python",
   "nbconvert_exporter": "python",
   "pygments_lexer": "ipython3",
   "version": "3.6.9"
  }
 },
 "nbformat": 4,
 "nbformat_minor": 4
}
