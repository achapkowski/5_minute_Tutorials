{
 "cells": [
  {
   "cell_type": "markdown",
   "id": "ff489576",
   "metadata": {},
   "source": [
    "# 5 Minute Tutorials"
   ]
  },
  {
   "cell_type": "markdown",
   "id": "c30c1a44",
   "metadata": {},
   "source": [
    "## Publishing Table Layer"
   ]
  },
  {
   "cell_type": "markdown",
   "id": "9d438b26",
   "metadata": {},
   "source": [
    "### Setup the Environment"
   ]
  },
  {
   "cell_type": "code",
   "execution_count": null,
   "id": "9109e558",
   "metadata": {},
   "outputs": [],
   "source": [
    "from arcgis.gis import GIS"
   ]
  },
  {
   "cell_type": "markdown",
   "id": "8a4c40d1",
   "metadata": {},
   "source": [
    "### Publish Table Layer"
   ]
  },
  {
   "cell_type": "code",
   "execution_count": null,
   "id": "d8c4ecc3",
   "metadata": {},
   "outputs": [],
   "source": [
    "gis = GIS(profile='your_online_profile')"
   ]
  },
  {
   "cell_type": "markdown",
   "id": "74653c6b",
   "metadata": {},
   "source": [
    "#### Adding Data to You Organization"
   ]
  },
  {
   "cell_type": "markdown",
   "id": "7dbed92b",
   "metadata": {},
   "source": [
    "We will use emergency shelter data provided by the **Hawaii State Chapter of the American Red Cross**. To do an easy copy, let's clone the item from the public site into your own organization.\n"
   ]
  },
  {
   "cell_type": "markdown",
   "id": "4a740fbd",
   "metadata": {},
   "source": [
    "1. Let's get the source Item from ArcGIS Online"
   ]
  },
  {
   "cell_type": "code",
   "execution_count": null,
   "id": "e874cafd",
   "metadata": {},
   "outputs": [],
   "source": [
    "csv_item = gis.content.get('3f0f20ae77c0447cb5fa2a15038d0520')\n",
    "csv_item"
   ]
  },
  {
   "cell_type": "markdown",
   "id": "7aa178da",
   "metadata": {},
   "source": [
    "2. Pass the item into `clone_items` within a `list`.  (The `gis` object needs to be the destination `GIS`)"
   ]
  },
  {
   "cell_type": "code",
   "execution_count": null,
   "id": "4ed0bbfb",
   "metadata": {},
   "outputs": [],
   "source": [
    "result = gis.content.clone_items([csv_item])\n",
    "result"
   ]
  },
  {
   "cell_type": "code",
   "execution_count": null,
   "id": "5529e707",
   "metadata": {},
   "outputs": [],
   "source": [
    "my_csv_item = result[0]\n",
    "my_csv_item"
   ]
  },
  {
   "cell_type": "markdown",
   "id": "42bc9891",
   "metadata": {},
   "source": [
    "### **Cloning Completed!**\n",
    "<img src=\"./img/spiderman_cloned.jpg\"/>"
   ]
  },
  {
   "cell_type": "markdown",
   "id": "7e0b66b5",
   "metadata": {},
   "source": [
    "#### Analyze the Data and Craft the Publishing Parameters"
   ]
  },
  {
   "cell_type": "code",
   "execution_count": null,
   "id": "f688d656",
   "metadata": {},
   "outputs": [],
   "source": [
    "analyzed = gis.content.analyze(item=my_csv_item)"
   ]
  },
  {
   "cell_type": "markdown",
   "id": "b52df506",
   "metadata": {},
   "source": [
    "This creates a set of publishing parameters that we can easily modify to fit our needs.  In this case, we can modify the publish parameters to ensure a **Table Layer** is created over a **Feature Layer**."
   ]
  },
  {
   "cell_type": "code",
   "execution_count": null,
   "id": "944b06a7",
   "metadata": {},
   "outputs": [],
   "source": [
    "publish_parameters = analyzed['publishParameters']\n",
    "publish_parameters['name'] = 'AVeryUniqueName' # this needs to be updated\n",
    "publish_parameters['locationType'] = None # this makes it a hosted table"
   ]
  },
  {
   "cell_type": "code",
   "execution_count": null,
   "id": "3b7cce76",
   "metadata": {},
   "outputs": [],
   "source": [
    "publish_parameters"
   ]
  },
  {
   "cell_type": "markdown",
   "id": "a5cac061",
   "metadata": {},
   "source": [
    "#### Publish as a Hosted Table"
   ]
  },
  {
   "cell_type": "markdown",
   "id": "6bfeb148",
   "metadata": {},
   "source": [
    "Now we publish the table using the publish parameters from the `analyze` method."
   ]
  },
  {
   "cell_type": "code",
   "execution_count": null,
   "id": "2dabf6a7",
   "metadata": {},
   "outputs": [],
   "source": [
    "published_item = my_csv_item.publish(publish_parameters)"
   ]
  },
  {
   "cell_type": "markdown",
   "id": "fb1af994",
   "metadata": {},
   "source": [
    "#### Result"
   ]
  },
  {
   "cell_type": "markdown",
   "id": "bf4f0aec",
   "metadata": {},
   "source": [
    "<img src=\"./img/boom_dynamite.jpg\"/>"
   ]
  },
  {
   "cell_type": "code",
   "execution_count": null,
   "id": "888fec83",
   "metadata": {},
   "outputs": [],
   "source": [
    "published_item"
   ]
  },
  {
   "cell_type": "code",
   "execution_count": null,
   "id": "0dd24e27",
   "metadata": {},
   "outputs": [],
   "source": [
    "published_item.tables"
   ]
  }
 ],
 "metadata": {
  "kernelspec": {
   "display_name": "Python 3",
   "language": "python",
   "name": "python3"
  },
  "language_info": {
   "codemirror_mode": {
    "name": "ipython",
    "version": 3
   },
   "file_extension": ".py",
   "mimetype": "text/x-python",
   "name": "python",
   "nbconvert_exporter": "python",
   "pygments_lexer": "ipython3",
   "version": "3.7.11"
  }
 },
 "nbformat": 4,
 "nbformat_minor": 5
}
