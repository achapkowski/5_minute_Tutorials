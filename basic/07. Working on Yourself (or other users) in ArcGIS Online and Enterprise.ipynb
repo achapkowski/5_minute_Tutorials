{
 "cells": [
  {
   "cell_type": "markdown",
   "metadata": {},
   "source": [
    "# 5 Minute Tutorial Series"
   ]
  },
  {
   "cell_type": "markdown",
   "metadata": {},
   "source": [
    "## Working with Yourself and Other Users"
   ]
  },
  {
   "cell_type": "code",
   "execution_count": 31,
   "metadata": {},
   "outputs": [],
   "source": [
    "import os\n",
    "import tempfile\n",
    "import requests\n",
    "from arcgis.gis import GIS"
   ]
  },
  {
   "cell_type": "markdown",
   "metadata": {},
   "source": [
    "## The `UserManager`"
   ]
  },
  {
   "cell_type": "markdown",
   "metadata": {},
   "source": [
    "The manager allows for controlling of users\n",
    "\n",
    "- Items\n",
    "- Profile\n",
    "- Groups\n",
    "- Folders\n"
   ]
  },
  {
   "cell_type": "markdown",
   "metadata": {},
   "source": [
    "### Working with Yourself!"
   ]
  },
  {
   "cell_type": "markdown",
   "metadata": {},
   "source": [
    "- the easiest way to gain access to yourself is to access the `me` property\n",
    "- this requires an authenticated `GIS` user"
   ]
  },
  {
   "cell_type": "code",
   "execution_count": 37,
   "metadata": {},
   "outputs": [],
   "source": [
    "gis = GIS(profile='my_demo_account')"
   ]
  },
  {
   "cell_type": "code",
   "execution_count": 38,
   "metadata": {},
   "outputs": [
    {
     "data": {
      "text/html": [
       "<div class=\"9item_container\" style=\"height: auto; overflow: hidden; border: 1px solid #cfcfcf; border-radius: 2px; background: #f6fafa; line-height: 1.21429em; padding: 10px;\">\n",
       "                    <div class=\"item_left\" style=\"width: 210px; float: left;\">\n",
       "                       <a href='https://geosaurus.maps.arcgis.com/home/user.html?user=demo_user_account' target='_blank'>\n",
       "                        <img src='https://geosaurus.maps.arcgis.com/home/js/arcgisonline/css/images/no-user-thumb.jpg' class=\"itemThumbnail\">\n",
       "                       </a>\n",
       "                    </div>\n",
       "\n",
       "                    <div class=\"item_right\" style=\"float: none; width: auto; overflow: hidden;\">\n",
       "                        <a href='https://geosaurus.maps.arcgis.com/home/user.html?user=demo_user_account' target='_blank'><b>demo account</b>\n",
       "                        </a>\n",
       "                        <br/><br/><b>Bio</b>: None\n",
       "                        <br/><b>First Name</b>: demo\n",
       "                        <br/><b>Last Name</b>: account\n",
       "                        <br/><b>Username</b>: demo_user_account\n",
       "                        <br/><b>Joined</b>: March 24, 2020\n",
       "\n",
       "                    </div>\n",
       "                </div>\n",
       "                "
      ],
      "text/plain": [
       "<User username:demo_user_account>"
      ]
     },
     "execution_count": 38,
     "metadata": {},
     "output_type": "execute_result"
    }
   ],
   "source": [
    "me = gis.users.me\n",
    "me"
   ]
  },
  {
   "cell_type": "markdown",
   "metadata": {},
   "source": [
    "#### `me` is a `User` Class"
   ]
  },
  {
   "cell_type": "markdown",
   "metadata": {},
   "source": [
    "- The `User` object provides all the information you need to know about the account\n",
    "    + access to license type\n",
    "    + roles\n",
    "    + content\n",
    "    + folder\n",
    "    + groups owned by you\n",
    "    + items owned by you"
   ]
  },
  {
   "cell_type": "markdown",
   "metadata": {},
   "source": [
    "**this account owns nothing :(**"
   ]
  },
  {
   "cell_type": "markdown",
   "metadata": {},
   "source": [
    "#### Create a Folder"
   ]
  },
  {
   "cell_type": "markdown",
   "metadata": {},
   "source": [
    "Much like an operating system, `ArcGIS Online and Enterprise` can store content in folders"
   ]
  },
  {
   "cell_type": "code",
   "execution_count": 74,
   "metadata": {},
   "outputs": [
    {
     "data": {
      "text/plain": [
       "{'username': 'demo_user_account',\n",
       " 'id': '6f33df4427b0482194adc7a384f6d56d',\n",
       " 'title': 'museums'}"
      ]
     },
     "execution_count": 74,
     "metadata": {},
     "output_type": "execute_result"
    }
   ],
   "source": [
    "folder = gis.content.create_folder('museums')\n",
    "folder"
   ]
  },
  {
   "cell_type": "code",
   "execution_count": 75,
   "metadata": {},
   "outputs": [
    {
     "data": {
      "text/plain": [
       "[{'username': 'demo_user_account',\n",
       "  'id': '6f33df4427b0482194adc7a384f6d56d',\n",
       "  'title': 'museums',\n",
       "  'created': 1585056526000}]"
      ]
     },
     "execution_count": 75,
     "metadata": {},
     "output_type": "execute_result"
    }
   ],
   "source": [
    "me.folders"
   ]
  },
  {
   "cell_type": "markdown",
   "metadata": {},
   "source": [
    "#### Add Content to the User's Folder"
   ]
  },
  {
   "cell_type": "code",
   "execution_count": 45,
   "metadata": {},
   "outputs": [
    {
     "data": {
      "text/html": [
       "<div class=\"item_container\" style=\"height: auto; overflow: hidden; border: 1px solid #cfcfcf; border-radius: 2px; background: #f6fafa; line-height: 1.21429em; padding: 10px;\">\n",
       "                    <div class=\"item_left\" style=\"width: 210px; float: left;\">\n",
       "                       <a href='https://geosaurus.maps.arcgis.com/home/item.html?id=40a94712dd274c5bb32cd28aacbbe6ad' target='_blank'>\n",
       "                        <img src='http://static.arcgis.com/images/desktopapp.png' class=\"itemThumbnail\">\n",
       "                       </a>\n",
       "                    </div>\n",
       "\n",
       "                    <div class=\"item_right\"     style=\"float: none; width: auto; overflow: hidden;\">\n",
       "                        <a href='https://geosaurus.maps.arcgis.com/home/item.html?id=40a94712dd274c5bb32cd28aacbbe6ad' target='_blank'><b>NYC Museums Data</b>\n",
       "                        </a>\n",
       "                        <br/><img src='https://geosaurus.maps.arcgis.com/home/js/jsapi/esri/css/images/item_type_icons/layers16.png' style=\"vertical-align:middle;\">CSV by demo_user_account\n",
       "                        <br/>Last Modified: March 24, 2020\n",
       "                        <br/>0 comments, 0 views\n",
       "                    </div>\n",
       "                </div>\n",
       "                "
      ],
      "text/plain": [
       "<Item title:\"NYC Museums Data\" type:CSV owner:demo_user_account>"
      ]
     },
     "execution_count": 45,
     "metadata": {},
     "output_type": "execute_result"
    }
   ],
   "source": [
    "url = \"https://data.cityofnewyork.us/api/views/fn6f-htvy/rows.csv?accessType=DOWNLOAD\"\n",
    "with tempfile.TemporaryDirectory() as tmpdir:\n",
    "    fp = os.path.join(tmpdir, 'nyc_musaems.csv')\n",
    "    with requests.get(url, stream=True) as r:\n",
    "        r.raise_for_status()\n",
    "        with open(fp, 'wb') as f:\n",
    "            for chunk in r.iter_content(chunk_size=8192): \n",
    "                if chunk: # filter out keep-alive new chunks\n",
    "                    f.write(chunk)\n",
    "    ## Add the content!\n",
    "    item = gis.content.add(item_properties={\n",
    "            'title' : \"NYC Museums Data\",\n",
    "            'type' : \"CSV\",\n",
    "            'tags' : \"Open Data, CSV, Museum, NYC, New York, New York City\",\n",
    "            'description' : \"Locations of New York City Museums\"\n",
    "        }, \n",
    "        data=fp,\n",
    "        folder='museums')\n",
    "item"
   ]
  },
  {
   "cell_type": "markdown",
   "metadata": {},
   "source": [
    "#### Publish The `Museums`"
   ]
  },
  {
   "cell_type": "code",
   "execution_count": 47,
   "metadata": {},
   "outputs": [
    {
     "data": {
      "text/html": [
       "<div class=\"item_container\" style=\"height: auto; overflow: hidden; border: 1px solid #cfcfcf; border-radius: 2px; background: #f6fafa; line-height: 1.21429em; padding: 10px;\">\n",
       "                    <div class=\"item_left\" style=\"width: 210px; float: left;\">\n",
       "                       <a href='https://geosaurus.maps.arcgis.com/home/item.html?id=778d53a0fd0a42d0a7ad78e88900aafb' target='_blank'>\n",
       "                        <img src='http://static.arcgis.com/images/desktopapp.png' class=\"itemThumbnail\">\n",
       "                       </a>\n",
       "                    </div>\n",
       "\n",
       "                    <div class=\"item_right\"     style=\"float: none; width: auto; overflow: hidden;\">\n",
       "                        <a href='https://geosaurus.maps.arcgis.com/home/item.html?id=778d53a0fd0a42d0a7ad78e88900aafb' target='_blank'><b>NYC Museums Data</b>\n",
       "                        </a>\n",
       "                        <br/><img src='https://geosaurus.maps.arcgis.com/home/js/jsapi/esri/css/images/item_type_icons/featureshosted16.png' style=\"vertical-align:middle;\">Feature Layer Collection by demo_user_account\n",
       "                        <br/>Last Modified: March 24, 2020\n",
       "                        <br/>0 comments, 0 views\n",
       "                    </div>\n",
       "                </div>\n",
       "                "
      ],
      "text/plain": [
       "<Item title:\"NYC Museums Data\" type:Feature Layer Collection owner:demo_user_account>"
      ]
     },
     "execution_count": 47,
     "metadata": {},
     "output_type": "execute_result"
    }
   ],
   "source": [
    "pitem = item.publish({'name' : \"NYC_Museums\"}, {\"Address\":\"LOCATION\"})\n",
    "pitem"
   ]
  },
  {
   "cell_type": "markdown",
   "metadata": {},
   "source": [
    "#### Track User Item's Create and Modified Time"
   ]
  },
  {
   "cell_type": "code",
   "execution_count": 64,
   "metadata": {},
   "outputs": [
    {
     "data": {
      "text/plain": [
       "{'NYC Museums Data': {'item': <Item title:\"NYC Museums Data\" type:Feature Layer Collection owner:demo_user_account>,\n",
       "  'created': datetime.datetime(2020, 3, 24, 9, 1, 35),\n",
       "  'modified': datetime.datetime(2020, 3, 24, 9, 1, 45)}}"
      ]
     },
     "execution_count": 64,
     "metadata": {},
     "output_type": "execute_result"
    }
   ],
   "source": [
    "import datetime\n",
    "items = {}\n",
    "folders = [fld['title'] for fld in me.folders] + [None]\n",
    "for folder in folders:\n",
    "    for item in me.items(folder):\n",
    "        created_date = datetime.datetime.fromtimestamp(item.created/1000)\n",
    "        mod_date = datetime.datetime.fromtimestamp(item.modified/1000)\n",
    "        items[item.title] = {'item' : item, 'created' : created_date, 'modified' : mod_date}\n",
    "        \n",
    "items"
   ]
  },
  {
   "cell_type": "markdown",
   "metadata": {},
   "source": [
    "#### Update User Profile"
   ]
  },
  {
   "cell_type": "code",
   "execution_count": 68,
   "metadata": {},
   "outputs": [
    {
     "data": {
      "text/html": [
       "<div class=\"9item_container\" style=\"height: auto; overflow: hidden; border: 1px solid #cfcfcf; border-radius: 2px; background: #f6fafa; line-height: 1.21429em; padding: 10px;\">\n",
       "                    <div class=\"item_left\" style=\"width: 210px; float: left;\">\n",
       "                       <a href='https://geosaurus.maps.arcgis.com/home/user.html?user=demo_user_account' target='_blank'>\n",
       "                        <img src='data:image/png;base64,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' width='200' height='133' class=\"itemThumbnail\">\n",
       "                       </a>\n",
       "                    </div>\n",
       "\n",
       "                    <div class=\"item_right\" style=\"float: none; width: auto; overflow: hidden;\">\n",
       "                        <a href='https://geosaurus.maps.arcgis.com/home/user.html?user=demo_user_account' target='_blank'><b>demo account</b>\n",
       "                        </a>\n",
       "                        <br/><br/><b>Bio</b>: None\n",
       "                        <br/><b>First Name</b>: demo\n",
       "                        <br/><b>Last Name</b>: account\n",
       "                        <br/><b>Username</b>: demo_user_account\n",
       "                        <br/><b>Joined</b>: March 24, 2020\n",
       "\n",
       "                    </div>\n",
       "                </div>\n",
       "                "
      ],
      "text/plain": [
       "<User username:demo_user_account>"
      ]
     },
     "execution_count": 68,
     "metadata": {},
     "output_type": "execute_result"
    }
   ],
   "source": [
    "with tempfile.TemporaryDirectory() as tmpdir:\n",
    "    url = \"https://img.favpng.com/13/0/13/cat-computer-icons-user-profile-avatar-png-favpng-0aXfSAjB7FwDVpeuUDXvWRLzd.jpg\"\n",
    "    r = requests.get(url)\n",
    "    with open(\"./cat_profile.jpg\", 'wb') as writer:\n",
    "        writer.write(r.content)\n",
    "    me.update(thumbnail=\"./cat_profile.jpg\")\n",
    "me"
   ]
  }
 ],
 "metadata": {
  "kernelspec": {
   "display_name": "Python 3",
   "language": "python",
   "name": "python3"
  },
  "language_info": {
   "codemirror_mode": {
    "name": "ipython",
    "version": 3
   },
   "file_extension": ".py",
   "mimetype": "text/x-python",
   "name": "python",
   "nbconvert_exporter": "python",
   "pygments_lexer": "ipython3",
   "version": "3.6.9"
  }
 },
 "nbformat": 4,
 "nbformat_minor": 4
}
