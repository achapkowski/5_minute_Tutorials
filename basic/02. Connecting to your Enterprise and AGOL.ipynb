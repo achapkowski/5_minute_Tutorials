{
 "cells": [
  {
   "cell_type": "markdown",
   "metadata": {
    "heading_collapsed": true
   },
   "source": [
    "## Connecting to Enterprise and ArcGIS Online (AGOL)"
   ]
  },
  {
   "cell_type": "markdown",
   "metadata": {
    "hidden": true
   },
   "source": [
    "In this tutorial, we will explore the way we can login to your organization.  "
   ]
  },
  {
   "cell_type": "markdown",
   "metadata": {
    "hidden": true
   },
   "source": [
    "### Setting up the Environment\n",
    "\n",
    "This will import the modules and libraries we will use for this tutorial."
   ]
  },
  {
   "cell_type": "code",
   "execution_count": 1,
   "metadata": {
    "hidden": true
   },
   "outputs": [],
   "source": [
    "from arcgis.gis import GIS"
   ]
  },
  {
   "cell_type": "markdown",
   "metadata": {
    "hidden": true
   },
   "source": [
    "### The `GIS` Class"
   ]
  },
  {
   "cell_type": "markdown",
   "metadata": {
    "hidden": true
   },
   "source": [
    "The `GIS` object exists in the `gis` sub-package of the ArcGIS API for Python.  This object is the way you connect to your enterprise or ArcGIS Online.  You can connect to the sites as an anonymous user or by providing credentials.  "
   ]
  },
  {
   "cell_type": "markdown",
   "metadata": {
    "hidden": true
   },
   "source": [
    "### Parts of the `GIS` Class"
   ]
  },
  {
   "cell_type": "markdown",
   "metadata": {
    "hidden": true
   },
   "source": [
    "From the documentation of the `GIS` class \n",
    "\n",
    "    *\"A GIS is representative of a single ArcGIS Online organization or an ArcGIS Enterprise deployment. The GIS object provides helper objects to manage (search, create, retrieve) GIS resources such as content, users, and groups.\"* \n",
    "\n",
    "The constructor of the `GIS` class takes multiple inputs but probably the most common are: `url, username, password, key_file, cert_file, client_id` and `profile`.  \n",
    "\n",
    "\n",
    "|Parameter |Description|\n",
    "|------|------|\n",
    "|url | If URL is None, then the URL will be ArcGIS Online. |\n",
    "|username|Login user name which is **case-sensitive**|\n",
    "|password|The secret login string that allows your to access your content.  Never make this something simple like `password1`.  It is  **case-sensitive**|\n",
    "|key_file|The file path to a user's key certificate for PKI authentication|\n",
    "|cert_file|The file path to a user's certificate file for PKI authentication. If a PFX or P12 certificate is used, a password is required. If a PEM file is used, the key_file is required.|\n",
    "|verify_cert|If a site has an invalid SSL certificate or is being accessed via the IP or hostname instead of the name on the certificate, set this value to False.  This will ensure that all SSL certificate issues are ignored. The default is True. **Warning** Setting the value to False can be a security risk.|\n",
    "|client_id|Used for OAuth authentication.  This is the applications client ID value.|\n",
    "|profile|The name of the profile that the user wishes to use to authenticate, if set, the identified profile will be used to login to the specified GIS.|"
   ]
  },
  {
   "cell_type": "markdown",
   "metadata": {
    "heading_collapsed": true
   },
   "source": [
    "## Logging in with the `GIS` Class"
   ]
  },
  {
   "cell_type": "markdown",
   "metadata": {
    "heading_collapsed": true,
    "hidden": true
   },
   "source": [
    "#### Anonymous Users"
   ]
  },
  {
   "cell_type": "markdown",
   "metadata": {
    "hidden": true
   },
   "source": [
    "These are users who do not provide any credentials.  The functionality of the `GIS` object is reduced because anonymous users do not have the same abilities as authenticated users.\n",
    "\n",
    "**Anonymous Users Cannot**\n",
    "\n",
    "1. Save/publish items\n",
    "2. Persist web maps\n",
    "3. Access private information within your organization"
   ]
  },
  {
   "cell_type": "markdown",
   "metadata": {
    "hidden": true
   },
   "source": [
    "##### Connecting to Enterprise\n",
    "\n",
    "Not all enterprise sites support anonymous access, but if your organization does support anonymous access, you can connect by doing the following:"
   ]
  },
  {
   "cell_type": "code",
   "execution_count": 2,
   "metadata": {
    "hidden": true
   },
   "outputs": [
    {
     "data": {
      "text/html": [
       "GIS @ <a href=\"https://pythonapi.playground.esri.com/portal\">https://pythonapi.playground.esri.com/portal</a>"
      ],
      "text/plain": [
       "GIS @ https://pythonapi.playground.esri.com/portal version:7.1"
      ]
     },
     "execution_count": 2,
     "metadata": {},
     "output_type": "execute_result"
    }
   ],
   "source": [
    "gis_enterprise = GIS(url='https://pythonapi.playground.esri.com/portal')\n",
    "gis_enterprise"
   ]
  },
  {
   "cell_type": "markdown",
   "metadata": {
    "heading_collapsed": true,
    "hidden": true
   },
   "source": [
    "##### Connecting to ArcGIS Online"
   ]
  },
  {
   "cell_type": "markdown",
   "metadata": {
    "hidden": true
   },
   "source": [
    "ArcGIS Online support anonymous logins.  With the ArcGIS API for Python, you can access a large amount of information without ever creating an account.  "
   ]
  },
  {
   "cell_type": "code",
   "execution_count": 4,
   "metadata": {
    "hidden": true
   },
   "outputs": [
    {
     "data": {
      "text/html": [
       "GIS @ <a href=\"https://www.arcgis.com\">https://www.arcgis.com</a>"
      ],
      "text/plain": [
       "GIS @ https://www.arcgis.com version:7.4"
      ]
     },
     "execution_count": 4,
     "metadata": {},
     "output_type": "execute_result"
    }
   ],
   "source": [
    "gis_agol = GIS()\n",
    "gis_agol"
   ]
  },
  {
   "cell_type": "markdown",
   "metadata": {
    "hidden": true
   },
   "source": [
    "##### Summary of Anonymous Users\n",
    "\n",
    "ArcGIS Online and Enterprise allows anonymous users to access large amounts of data, webmaps and other information.  Though you cannot persist anything to organizations, anonymous accounts have lots of analysis, data and other access.\n",
    "\n"
   ]
  },
  {
   "cell_type": "markdown",
   "metadata": {
    "hidden": true
   },
   "source": [
    "#### Built-In User Accounts"
   ]
  },
  {
   "cell_type": "markdown",
   "metadata": {
    "hidden": true
   },
   "source": [
    "The `built-in` account is a named user account just like when you go to any website and create your `username/password` account.  A simple example of this is logging into `gmail`.  You provide a username plus a password, and you can access your email.  It is the same concept for `build-in` users.\n"
   ]
  },
  {
   "cell_type": "markdown",
   "metadata": {
    "hidden": true
   },
   "source": [
    "##### Connecting to Built-In Users"
   ]
  },
  {
   "cell_type": "markdown",
   "metadata": {
    "hidden": true
   },
   "source": [
    "We will expand upon the anonymous user way of logging in by providing a `username/password` plus the `url`."
   ]
  },
  {
   "cell_type": "markdown",
   "metadata": {
    "hidden": true
   },
   "source": [
    "##### Connecting to ArcGIS Online"
   ]
  },
  {
   "cell_type": "code",
   "execution_count": 5,
   "metadata": {
    "hidden": true
   },
   "outputs": [],
   "source": [
    "gis = GIS(username='my_fake_account', password='my_fake_password')"
   ]
  },
  {
   "cell_type": "markdown",
   "metadata": {
    "hidden": true
   },
   "source": [
    "The `API` on the back end will go out and try to authenticate the username and password to ArcGIS Online.  "
   ]
  },
  {
   "cell_type": "markdown",
   "metadata": {
    "heading_collapsed": true,
    "hidden": true
   },
   "source": [
    "##### Connecting to Enterprise"
   ]
  },
  {
   "cell_type": "code",
   "execution_count": 6,
   "metadata": {
    "hidden": true
   },
   "outputs": [],
   "source": [
    "gis_enterprise = GIS(url='https://pythonapi.playground.esri.com/portal',\n",
    "                     username='my_fake_account', password='my_fake_password')"
   ]
  },
  {
   "cell_type": "markdown",
   "metadata": {
    "hidden": true
   },
   "source": [
    "You do not need to supply a `password`. If it is not supplied the `API` will prompt you for a `password`.\n",
    "\n",
    "**these are a fake username and password**"
   ]
  },
  {
   "cell_type": "markdown",
   "metadata": {
    "heading_collapsed": true,
    "hidden": true
   },
   "source": [
    "#### `PKI` Authentication Based Accounts"
   ]
  },
  {
   "cell_type": "markdown",
   "metadata": {
    "hidden": true
   },
   "source": [
    "```Public Key Infrastructure``` or **PKI**  is a security infrastructure that creates and manages digital certificates. It performs two basic tasks:\n",
    "\n",
    "- Generates and distributes public key certificates to bind public keys to other information, after validating the accuracy of the binding.\n",
    "- Maintains and distributes certificate status information.\n",
    "\n",
    "The ability to issue and manage certificates in software security systems that use public key technologies is built into Windows Server operating systems. [source](https://www.fedidcard.gov/faq/what-pki-public-key-infrastructure-and-why-do-i-need-it)"
   ]
  },
  {
   "cell_type": "markdown",
   "metadata": {
    "hidden": true
   },
   "source": [
    "```python\n",
    "gis = GIS(url=\"https://pkienterprise.esri.com/portal\",\n",
    "          cert_file=\"C:\\users\\someuser\\mycert.pfx\", \n",
    "          password=\"password1\")```"
   ]
  },
  {
   "cell_type": "markdown",
   "metadata": {
    "hidden": true
   },
   "source": [
    "You do not need to supply a `password`. If it is not supplied the `API` will prompt you for a `password`."
   ]
  },
  {
   "cell_type": "markdown",
   "metadata": {
    "heading_collapsed": true,
    "hidden": true
   },
   "source": [
    "#### Other Authentication Methods"
   ]
  },
  {
   "cell_type": "markdown",
   "metadata": {
    "hidden": true
   },
   "source": [
    "`LDAP, Integrated Windows Authentication, NTLM,` and `Kerberos` are all supported using the **ArcGIS API for Python**.  When sites use `IWA, NTLM and Kerberos` the `API` will attempt to login for you when you are on the network.\n",
    "\n",
    "- On the network means you are able to see the domain controller."
   ]
  },
  {
   "cell_type": "markdown",
   "metadata": {
    "hidden": true
   },
   "source": [
    "##### Accessing IWA/NTLM/Kerberos on the Domain\n",
    "\n",
    "The ArcGIS API for Python will automatically detect the type of security the site is using when it connects to an organization.  For IWA/NTLM/Kerberos security it will attempt to automatically authenticate when prompted to do so.\n",
    "\n",
    "\n",
    "```python\n",
    "gis = GIS(url=\"https://myiwa.site.enterprise.somewhere.com/portal\")\n",
    "```"
   ]
  },
  {
   "cell_type": "markdown",
   "metadata": {
    "hidden": true
   },
   "source": [
    "##### Accessing IWA/NTLM/Kerberos Outside of the Domain\n",
    "\n",
    "Starting at the version `1.8.0`, you can provide a username/password to access a IWA, NTLM, and Kerberos login manually.  This is helpful for situations where you need to script using accounts other than your own for windows tasks or CRON jobs.\n",
    "\n",
    "```python\n",
    "gis = GIS(url=\"https://myiwa.site.enterprise.somewhere.com/portal\",\n",
    "          username='DOMAIN//USERNAME \n",
    "          password=\"MY_FAKE_PASSWORD\")\n",
    "```"
   ]
  },
  {
   "cell_type": "markdown",
   "metadata": {
    "hidden": true
   },
   "source": [
    "#### What is `verify_cert`?"
   ]
  },
  {
   "cell_type": "markdown",
   "metadata": {
    "hidden": true
   },
   "source": [
    "If a site has an expired or invalid SSL certificate, you can ignore the SSL certificates by setting `verify_cert` to `False`.  The default is `True`.  "
   ]
  },
  {
   "cell_type": "markdown",
   "metadata": {
    "hidden": true
   },
   "source": [
    "##### When to use `verify_cert`?\n",
    "\n",
    "Here are some common applications of using `verify_cert`:\n",
    "\n",
    "- Setting up a new enterprise site\n",
    "- Accessing a site with expired SSL certificate\n",
    "- When updating SSL certificates"
   ]
  },
  {
   "cell_type": "markdown",
   "metadata": {
    "hidden": true
   },
   "source": [
    "```python\n",
    "gis_enterprise = GIS(url='https://pythonapi.playground.esri.com/portal',\n",
    "                     username='my_fake_account', \n",
    "                     password='my_fake_password', \n",
    "                     verify_cert=False)\n",
    "```"
   ]
  },
  {
   "cell_type": "markdown",
   "metadata": {
    "heading_collapsed": true
   },
   "source": [
    "## Leveraging Your OS Credential Store"
   ]
  },
  {
   "cell_type": "markdown",
   "metadata": {
    "hidden": true
   },
   "source": [
    "When we examined the various parts of the `GIS` class, `profile` was mentioned.  The `profile` allows users to store `username/passwords` in a secure manner. \n",
    "\n",
    "The profiles stored use the systems credential store on your operating system.  This is akin to saving your credentials in a browser. \n",
    "\n",
    "We \n",
    "\n",
    "**Note: On Linux and MacOS, additional setup for credential store could be required**\n"
   ]
  },
  {
   "cell_type": "markdown",
   "metadata": {
    "hidden": true
   },
   "source": [
    "##### Storing `GIS` Credentials"
   ]
  },
  {
   "cell_type": "markdown",
   "metadata": {
    "hidden": true
   },
   "source": [
    "```python\n",
    "gis_enterprise = GIS(url='https://pythonapi.playground.esri.com/portal',\n",
    "                     username='my_fake_account', \n",
    "                     password='my_fake_password', \n",
    "                     profile='my_first_profile')\n",
    "```"
   ]
  },
  {
   "cell_type": "markdown",
   "metadata": {
    "hidden": true
   },
   "source": [
    "**Persistent Profile Details**\n",
    "\n",
    "The profile will store any of the following:\n",
    "\n",
    "- url\n",
    "- username\n",
    "- key_file\n",
    "- cert_file\n",
    "- client_id\n",
    "\n",
    "These are stored in the `.arcgisprofile` file under your user profile.\n",
    "\n",
    "The **password** is pushed into the credential store and never stored as plain text. "
   ]
  }
 ],
 "metadata": {
  "kernelspec": {
   "display_name": "Python 3",
   "language": "python",
   "name": "python3"
  },
  "language_info": {
   "codemirror_mode": {
    "name": "ipython",
    "version": 3
   },
   "file_extension": ".py",
   "mimetype": "text/x-python",
   "name": "python",
   "nbconvert_exporter": "python",
   "pygments_lexer": "ipython3",
   "version": "3.6.9"
  }
 },
 "nbformat": 4,
 "nbformat_minor": 4
}
