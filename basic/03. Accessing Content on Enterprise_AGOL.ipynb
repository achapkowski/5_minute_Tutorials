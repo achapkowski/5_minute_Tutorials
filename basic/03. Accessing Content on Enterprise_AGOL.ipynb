{
 "cells": [
  {
   "cell_type": "markdown",
   "metadata": {},
   "source": [
    "# 5 Minute Tutorial "
   ]
  },
  {
   "cell_type": "markdown",
   "metadata": {},
   "source": [
    "## Using the ArcGIS API for Python to Accessing Content"
   ]
  },
  {
   "cell_type": "markdown",
   "metadata": {},
   "source": [
    "ArcGIS Online and Enterprise provide a wealth of publicly and privately shared information.  The ArcGIS API for Python can easily find and use content of the various types."
   ]
  },
  {
   "cell_type": "markdown",
   "metadata": {
    "heading_collapsed": true
   },
   "source": [
    "### Setup the Environment"
   ]
  },
  {
   "cell_type": "markdown",
   "metadata": {
    "hidden": true
   },
   "source": [
    "We will begin by putting are imports at the top of the notebook"
   ]
  },
  {
   "cell_type": "code",
   "execution_count": 2,
   "metadata": {
    "hidden": true
   },
   "outputs": [],
   "source": [
    "from arcgis.gis import GIS"
   ]
  },
  {
   "cell_type": "markdown",
   "metadata": {
    "heading_collapsed": true
   },
   "source": [
    "### Connect to the `GIS`"
   ]
  },
  {
   "cell_type": "markdown",
   "metadata": {
    "hidden": true
   },
   "source": [
    "Content can be explored as an anonymous user and/or as an authenticated user.\n",
    "\n",
    "- Anonymous users can only access public data\n",
    "- Authenticated data can access organizational data, your private data, or shared data to your username"
   ]
  },
  {
   "cell_type": "code",
   "execution_count": 3,
   "metadata": {
    "hidden": true
   },
   "outputs": [],
   "source": [
    "gis = GIS() "
   ]
  },
  {
   "cell_type": "markdown",
   "metadata": {
    "heading_collapsed": true
   },
   "source": [
    "### The Content Manager"
   ]
  },
  {
   "cell_type": "markdown",
   "metadata": {
    "hidden": true
   },
   "source": [
    "<img src=\"./img/content_manager.jpg\" width=300/>"
   ]
  },
  {
   "cell_type": "markdown",
   "metadata": {
    "heading_collapsed": true,
    "hidden": true
   },
   "source": [
    "#### What is the Content Manager?"
   ]
  },
  {
   "cell_type": "markdown",
   "metadata": {
    "hidden": true
   },
   "source": [
    "The `ContentManager` class allows for the following:\n",
    "\n",
    "- Search for content\n",
    "- Add, update and delete content\n",
    "- Share/Unshare Content\n",
    "- Create/Delete folders\n",
    "- Replace vector tile services"
   ]
  },
  {
   "cell_type": "markdown",
   "metadata": {
    "heading_collapsed": true,
    "hidden": true
   },
   "source": [
    "#### Using the Content Manager"
   ]
  },
  {
   "cell_type": "markdown",
   "metadata": {
    "hidden": true
   },
   "source": [
    "- It is a property off of the GIS class\n",
    "- The content manager follows a common pattern:\n",
    "    + `get` method - retrieves an item by ID\n",
    "    + `search` method - finds item by keywords\n",
    "    + `add` method - uploads new content to the site"
   ]
  },
  {
   "cell_type": "code",
   "execution_count": 8,
   "metadata": {
    "hidden": true
   },
   "outputs": [
    {
     "data": {
      "text/plain": [
       "<arcgis.gis.ContentManager at 0x1b87dba4710>"
      ]
     },
     "execution_count": 8,
     "metadata": {},
     "output_type": "execute_result"
    }
   ],
   "source": [
    "gis.content"
   ]
  },
  {
   "cell_type": "markdown",
   "metadata": {
    "heading_collapsed": true,
    "hidden": true
   },
   "source": [
    "##### Searching"
   ]
  },
  {
   "cell_type": "markdown",
   "metadata": {
    "hidden": true
   },
   "source": [
    "- returns a list of `Item` classes"
   ]
  },
  {
   "cell_type": "code",
   "execution_count": 11,
   "metadata": {
    "hidden": true
   },
   "outputs": [
    {
     "data": {
      "text/plain": [
       "[<Item title:\"Donnees_Begraisiere\" type:Feature Layer Collection owner:Lemonnier>,\n",
       " <Item title:\"Concert_Halls_in_Michigan's_Lower_Peninsula\" type:Feature Layer Collection owner:10287@sjs>,\n",
       " <Item title:\"USFSTrails\" type:Feature Layer Collection owner:seggebraten_EsriSF>,\n",
       " <Item title:\"Generate_tessellations_on_Number_of_concerts_per_venues\" type:Feature Layer Collection owner:dkiman_wesleyan>,\n",
       " <Item title:\"concerts\" type:Feature Layer Collection owner:wpaGIS>,\n",
       " <Item title:\"Kpop_winter_concerts\" type:Feature Layer Collection owner:eyl13_georgetownuniv>,\n",
       " <Item title:\"AGGLO - INSTALLATIONS COMMERCIALES A FORTE FREQUENTATION (ICFF)\" type:Feature Layer Collection owner:sitg>,\n",
       " <Item title:\"Fire Stations\" type:Feature Layer Collection owner:Alex.Quintero@doerer.us_NIR>,\n",
       " <Item title:\"Conservation de la Nature Canada_WFL1\" type:Feature Layer Collection owner:Geo_ECL>,\n",
       " <Item title:\"All_Law_Enforcement_shp\" type:Feature Layer Collection owner:jbostic_alhub>,\n",
       " <Item title:\"Concert2020\" type:Feature Layer Collection owner:FingalAdmin>,\n",
       " <Item title:\"Georgia Symphony Concert_fieldworker\" type:Feature Layer Collection owner:Hurricane_Alan>,\n",
       " <Item title:\"2018ConcertAttendance\" type:Feature Layer Collection owner:brandonmscd>,\n",
       " <Item title:\"urban_rural_reserves\" type:Feature Layer Collection owner:jim.cser_drcMetro>,\n",
       " <Item title:\"MO_2018_Dye_Trace_Injection_Points\" type:Feature Layer Collection owner:MSDISMizzou>,\n",
       " <Item title:\"EMS Alcohol Overdose Responses 2016_2018\" type:Feature Layer Collection owner:KASUTTL2_uncg>,\n",
       " <Item title:\"COBAMIL_WFL1\" type:Feature Layer Collection owner:Geo_ECL>,\n",
       " <Item title:\"Event Venues\" type:Feature Layer Collection owner:StarkCountyOH>,\n",
       " <Item title:\"Ed Sheeran Concert\" type:Feature Layer Collection owner:Wendy.Murgatroyd_LeedsCC>,\n",
       " <Item title:\"National Forest Estate Recreation Areas Scotland\" type:Feature Layer Collection owner:mapping.geodata_forestry>]"
      ]
     },
     "execution_count": 11,
     "metadata": {},
     "output_type": "execute_result"
    }
   ],
   "source": [
    "gis.content.search(query=\"concert\",\n",
    "                   item_type=\"Feature Layer\",\n",
    "                   sort_field='avgRating',\n",
    "                   sort_order='asc',\n",
    "                   max_items=20)"
   ]
  },
  {
   "cell_type": "markdown",
   "metadata": {
    "heading_collapsed": true,
    "hidden": true
   },
   "source": [
    "##### Retrieving a Single Item"
   ]
  },
  {
   "cell_type": "markdown",
   "metadata": {
    "hidden": true
   },
   "source": [
    "- if you know what you want, use the Item Id to Get it."
   ]
  },
  {
   "cell_type": "code",
   "execution_count": 16,
   "metadata": {
    "hidden": true
   },
   "outputs": [
    {
     "data": {
      "text/html": [
       "<div class=\"item_container\" style=\"height: auto; overflow: hidden; border: 1px solid #cfcfcf; border-radius: 2px; background: #f6fafa; line-height: 1.21429em; padding: 10px;\">\n",
       "                    <div class=\"item_left\" style=\"width: 210px; float: left;\">\n",
       "                       <a href='https://www.arcgis.com/home/item.html?id=5ae9e138a17842688b0b79283a4353f6' target='_blank'>\n",
       "                        <img src='https://www.arcgis.com/sharing/rest//content/items/5ae9e138a17842688b0b79283a4353f6/info/thumbnail/oceans_5_0_gulf.jpg' class=\"itemThumbnail\">\n",
       "                       </a>\n",
       "                    </div>\n",
       "\n",
       "                    <div class=\"item_right\"     style=\"float: none; width: auto; overflow: hidden;\">\n",
       "                        <a href='https://www.arcgis.com/home/item.html?id=5ae9e138a17842688b0b79283a4353f6' target='_blank'><b>Ocean Basemap</b>\n",
       "                        </a>\n",
       "                        <br/>The Ocean Basemap includes bathymetry, surface and subsurface feature names, and derived depths.  This map is designed to be used as a basemap by marine GIS professionals and as a reference map by anyone interested in ocean data.<img src='https://www.arcgis.com/home/js/jsapi/esri/css/images/item_type_icons/maps16.png' style=\"vertical-align:middle;\">Web Map by esri\n",
       "                        <br/>Last Modified: March 12, 2019\n",
       "                        <br/>10 comments, 638,343 views\n",
       "                    </div>\n",
       "                </div>\n",
       "                "
      ],
      "text/plain": [
       "<Item title:\"Ocean Basemap\" type:Web Map owner:esri>"
      ]
     },
     "execution_count": 16,
     "metadata": {},
     "output_type": "execute_result"
    }
   ],
   "source": [
    "gis.content.get('5ae9e138a17842688b0b79283a4353f6')"
   ]
  },
  {
   "cell_type": "markdown",
   "metadata": {
    "heading_collapsed": true,
    "hidden": true
   },
   "source": [
    "##### Using Advanced Search"
   ]
  },
  {
   "cell_type": "markdown",
   "metadata": {
    "hidden": true
   },
   "source": [
    "- Sometimes the basic search does not suite the needs.  `advanced_search` allows for complete control over the searching experience."
   ]
  },
  {
   "cell_type": "markdown",
   "metadata": {
    "hidden": true
   },
   "source": [
    "**How Many Items?**"
   ]
  },
  {
   "cell_type": "code",
   "execution_count": 20,
   "metadata": {
    "hidden": true
   },
   "outputs": [
    {
     "data": {
      "text/plain": [
       "275"
      ]
     },
     "execution_count": 20,
     "metadata": {},
     "output_type": "execute_result"
    }
   ],
   "source": [
    "gis.content.advanced_search(query=\"Census, Europe\",\n",
    "                            return_count=True)"
   ]
  },
  {
   "cell_type": "markdown",
   "metadata": {
    "hidden": true
   },
   "source": [
    "**Raw Responses**"
   ]
  },
  {
   "cell_type": "code",
   "execution_count": 33,
   "metadata": {
    "hidden": true
   },
   "outputs": [
    {
     "data": {
      "text/plain": [
       "275"
      ]
     },
     "execution_count": 33,
     "metadata": {},
     "output_type": "execute_result"
    }
   ],
   "source": [
    "raw = gis.content.advanced_search(query=\"Census, Europe\", max_items=-1)\n",
    "len(raw['results'])"
   ]
  },
  {
   "cell_type": "markdown",
   "metadata": {
    "hidden": true
   },
   "source": [
    "**Type of Item Counts**"
   ]
  },
  {
   "cell_type": "code",
   "execution_count": 83,
   "metadata": {
    "hidden": true
   },
   "outputs": [],
   "source": [
    "stats = gis.content.advanced_search(query=\"Census, Europe\", \n",
    "                                    count_fields='tags, contentstatus, type')"
   ]
  },
  {
   "cell_type": "code",
   "execution_count": 84,
   "metadata": {
    "hidden": true
   },
   "outputs": [],
   "source": [
    "%matplotlib inline\n",
    "import matplotlib.pyplot as plt\n",
    "import pandas as pd"
   ]
  },
  {
   "cell_type": "code",
   "execution_count": 88,
   "metadata": {
    "hidden": true
   },
   "outputs": [
    {
     "data": {
      "image/png": "[encoded data removed]",
      "text/plain": [
       "<Figure size 432x288 with 1 Axes>"
      ]
     },
     "metadata": {
      "needs_background": "light"
     },
     "output_type": "display_data"
    }
   ],
   "source": [
    "for c in stats['counts']:\n",
    "    if c['fieldName'] == 'type':\n",
    "        break\n",
    "c\n",
    "ax = (\n",
    "    pd.DataFrame(c['fieldValues'])\n",
    "     .reset_index()\n",
    "     .plot(kind='barh', \n",
    "           #stacked=True, \n",
    "           y='count', \n",
    "           x='value', \n",
    "           #label='value',\n",
    "           colormap='Accent')\n",
    ");\n"
   ]
  }
 ],
 "metadata": {
  "kernelspec": {
   "display_name": "Python 3",
   "language": "python",
   "name": "python3"
  },
  "language_info": {
   "codemirror_mode": {
    "name": "ipython",
    "version": 3
   },
   "file_extension": ".py",
   "mimetype": "text/x-python",
   "name": "python",
   "nbconvert_exporter": "python",
   "pygments_lexer": "ipython3",
   "version": "3.6.9"
  }
 },
 "nbformat": 4,
 "nbformat_minor": 4
}
