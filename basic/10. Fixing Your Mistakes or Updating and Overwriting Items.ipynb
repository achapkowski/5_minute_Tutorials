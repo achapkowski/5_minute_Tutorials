{
 "cells": [
  {
   "cell_type": "markdown",
   "metadata": {},
   "source": [
    "# 5 Minute Tutorial Series"
   ]
  },
  {
   "cell_type": "markdown",
   "metadata": {},
   "source": [
    "## Fixing Your Mistakes by Updating and Overwriting Data"
   ]
  },
  {
   "cell_type": "markdown",
   "metadata": {},
   "source": [
    "### Setup the Environment"
   ]
  },
  {
   "cell_type": "code",
   "execution_count": 18,
   "metadata": {},
   "outputs": [],
   "source": [
    "import os\n",
    "import sys\n",
    "import tempfile\n",
    "import pandas as pd\n",
    "import arcgis\n",
    "from arcgis.gis import GIS\n",
    "from arcgis.features import FeatureLayerCollection"
   ]
  },
  {
   "cell_type": "markdown",
   "metadata": {},
   "source": [
    "### Connect to the GIS"
   ]
  },
  {
   "cell_type": "code",
   "execution_count": 2,
   "metadata": {},
   "outputs": [],
   "source": [
    "gis = GIS(profile='your_online_profile')"
   ]
  },
  {
   "cell_type": "markdown",
   "metadata": {},
   "source": [
    "## Load the Sample Data"
   ]
  },
  {
   "cell_type": "markdown",
   "metadata": {},
   "source": [
    "- in this tutorial the data used will be downloaded from the ArcGIS Open Data Site\n"
   ]
  },
  {
   "cell_type": "code",
   "execution_count": 4,
   "metadata": {},
   "outputs": [
    {
     "data": {
      "text/html": [
       "<div>\n",
       "<style scoped>\n",
       "    .dataframe tbody tr th:only-of-type {\n",
       "        vertical-align: middle;\n",
       "    }\n",
       "\n",
       "    .dataframe tbody tr th {\n",
       "        vertical-align: top;\n",
       "    }\n",
       "\n",
       "    .dataframe thead th {\n",
       "        text-align: right;\n",
       "    }\n",
       "</style>\n",
       "<table border=\"1\" class=\"dataframe\">\n",
       "  <thead>\n",
       "    <tr style=\"text-align: right;\">\n",
       "      <th></th>\n",
       "      <th>X</th>\n",
       "      <th>Y</th>\n",
       "      <th>CCN</th>\n",
       "      <th>REPORT_DAT</th>\n",
       "      <th>SHIFT</th>\n",
       "      <th>METHOD</th>\n",
       "      <th>OFFENSE</th>\n",
       "      <th>BLOCK</th>\n",
       "      <th>XBLOCK</th>\n",
       "      <th>YBLOCK</th>\n",
       "      <th>...</th>\n",
       "      <th>BLOCK_GROUP</th>\n",
       "      <th>CENSUS_TRACT</th>\n",
       "      <th>VOTING_PRECINCT</th>\n",
       "      <th>LATITUDE</th>\n",
       "      <th>LONGITUDE</th>\n",
       "      <th>BID</th>\n",
       "      <th>START_DATE</th>\n",
       "      <th>END_DATE</th>\n",
       "      <th>OBJECTID</th>\n",
       "      <th>OCTO_RECORD_ID</th>\n",
       "    </tr>\n",
       "  </thead>\n",
       "  <tbody>\n",
       "    <tr>\n",
       "      <th>0</th>\n",
       "      <td>-77.045290</td>\n",
       "      <td>38.907248</td>\n",
       "      <td>20400331</td>\n",
       "      <td>2020-03-11T16:05:16.000Z</td>\n",
       "      <td>EVENING</td>\n",
       "      <td>OTHERS</td>\n",
       "      <td>THEFT/OTHER</td>\n",
       "      <td>2000 - 2007 BLOCK OF N STREET NW</td>\n",
       "      <td>396072.0</td>\n",
       "      <td>137710.0</td>\n",
       "      <td>...</td>\n",
       "      <td>010700 2</td>\n",
       "      <td>10700</td>\n",
       "      <td>Precinct 4</td>\n",
       "      <td>38.907240</td>\n",
       "      <td>-77.045287</td>\n",
       "      <td>GOLDEN TRIANGLE</td>\n",
       "      <td>2020-02-24T15:55:00.000Z</td>\n",
       "      <td>2020-03-11T15:40:00.000Z</td>\n",
       "      <td>420637740</td>\n",
       "      <td>20400331-01</td>\n",
       "    </tr>\n",
       "    <tr>\n",
       "      <th>1</th>\n",
       "      <td>-77.018024</td>\n",
       "      <td>38.911868</td>\n",
       "      <td>20400332</td>\n",
       "      <td>2020-03-11T19:46:08.000Z</td>\n",
       "      <td>EVENING</td>\n",
       "      <td>OTHERS</td>\n",
       "      <td>THEFT/OTHER</td>\n",
       "      <td>400 - 499 BLOCK OF WARNER STREET NW</td>\n",
       "      <td>398437.0</td>\n",
       "      <td>138222.0</td>\n",
       "      <td>...</td>\n",
       "      <td>004801 1</td>\n",
       "      <td>4801</td>\n",
       "      <td>Precinct 18</td>\n",
       "      <td>38.911860</td>\n",
       "      <td>-77.018022</td>\n",
       "      <td>NaN</td>\n",
       "      <td>2020-03-11T11:49:00.000Z</td>\n",
       "      <td>2020-03-11T17:25:00.000Z</td>\n",
       "      <td>420637741</td>\n",
       "      <td>20400332-01</td>\n",
       "    </tr>\n",
       "    <tr>\n",
       "      <th>2</th>\n",
       "      <td>-77.027267</td>\n",
       "      <td>38.930720</td>\n",
       "      <td>20400333</td>\n",
       "      <td>2020-02-25T20:52:56.000Z</td>\n",
       "      <td>EVENING</td>\n",
       "      <td>OTHERS</td>\n",
       "      <td>THEFT/OTHER</td>\n",
       "      <td>1000 - 1099 BLOCK OF LAMONT STREET NW</td>\n",
       "      <td>397636.0</td>\n",
       "      <td>140315.0</td>\n",
       "      <td>...</td>\n",
       "      <td>003100 1</td>\n",
       "      <td>3100</td>\n",
       "      <td>Precinct 38</td>\n",
       "      <td>38.930713</td>\n",
       "      <td>-77.027264</td>\n",
       "      <td>NaN</td>\n",
       "      <td>2020-02-25T17:00:00.000Z</td>\n",
       "      <td>2020-02-25T18:00:00.000Z</td>\n",
       "      <td>420637742</td>\n",
       "      <td>20400333-01</td>\n",
       "    </tr>\n",
       "    <tr>\n",
       "      <th>3</th>\n",
       "      <td>-77.008219</td>\n",
       "      <td>38.875556</td>\n",
       "      <td>20400335</td>\n",
       "      <td>2020-03-11T11:03:48.000Z</td>\n",
       "      <td>DAY</td>\n",
       "      <td>OTHERS</td>\n",
       "      <td>THEFT/OTHER</td>\n",
       "      <td>1200 - 1299 BLOCK OF VAN STREET SE</td>\n",
       "      <td>399287.0</td>\n",
       "      <td>134191.0</td>\n",
       "      <td>...</td>\n",
       "      <td>007200 2</td>\n",
       "      <td>7200</td>\n",
       "      <td>Precinct 131</td>\n",
       "      <td>38.875548</td>\n",
       "      <td>-77.008217</td>\n",
       "      <td>CAPITOL RIVERFRONT</td>\n",
       "      <td>2020-03-07T07:00:00.000Z</td>\n",
       "      <td>2020-03-09T06:00:00.000Z</td>\n",
       "      <td>420637743</td>\n",
       "      <td>20400335-01</td>\n",
       "    </tr>\n",
       "    <tr>\n",
       "      <th>4</th>\n",
       "      <td>-76.994371</td>\n",
       "      <td>38.826622</td>\n",
       "      <td>20400338</td>\n",
       "      <td>2020-03-13T13:59:21.000Z</td>\n",
       "      <td>DAY</td>\n",
       "      <td>OTHERS</td>\n",
       "      <td>THEFT F/AUTO</td>\n",
       "      <td>734 - 855 BLOCK OF SOUTHERN AVENUE SE</td>\n",
       "      <td>400489.0</td>\n",
       "      <td>128759.0</td>\n",
       "      <td>...</td>\n",
       "      <td>009811 2</td>\n",
       "      <td>9811</td>\n",
       "      <td>Precinct 125</td>\n",
       "      <td>38.826615</td>\n",
       "      <td>-76.994369</td>\n",
       "      <td>NaN</td>\n",
       "      <td>2020-02-13T12:40:00.000Z</td>\n",
       "      <td>2020-03-13T12:40:00.000Z</td>\n",
       "      <td>420637744</td>\n",
       "      <td>20400338-01</td>\n",
       "    </tr>\n",
       "  </tbody>\n",
       "</table>\n",
       "<p>5 rows × 25 columns</p>\n",
       "</div>"
      ],
      "text/plain": [
       "           X          Y       CCN                REPORT_DAT    SHIFT  METHOD  \\\n",
       "0 -77.045290  38.907248  20400331  2020-03-11T16:05:16.000Z  EVENING  OTHERS   \n",
       "1 -77.018024  38.911868  20400332  2020-03-11T19:46:08.000Z  EVENING  OTHERS   \n",
       "2 -77.027267  38.930720  20400333  2020-02-25T20:52:56.000Z  EVENING  OTHERS   \n",
       "3 -77.008219  38.875556  20400335  2020-03-11T11:03:48.000Z      DAY  OTHERS   \n",
       "4 -76.994371  38.826622  20400338  2020-03-13T13:59:21.000Z      DAY  OTHERS   \n",
       "\n",
       "        OFFENSE                                  BLOCK    XBLOCK    YBLOCK  \\\n",
       "0   THEFT/OTHER       2000 - 2007 BLOCK OF N STREET NW  396072.0  137710.0   \n",
       "1   THEFT/OTHER    400 - 499 BLOCK OF WARNER STREET NW  398437.0  138222.0   \n",
       "2   THEFT/OTHER  1000 - 1099 BLOCK OF LAMONT STREET NW  397636.0  140315.0   \n",
       "3   THEFT/OTHER     1200 - 1299 BLOCK OF VAN STREET SE  399287.0  134191.0   \n",
       "4  THEFT F/AUTO  734 - 855 BLOCK OF SOUTHERN AVENUE SE  400489.0  128759.0   \n",
       "\n",
       "   ...  BLOCK_GROUP CENSUS_TRACT  VOTING_PRECINCT   LATITUDE  LONGITUDE  \\\n",
       "0  ...     010700 2        10700       Precinct 4  38.907240 -77.045287   \n",
       "1  ...     004801 1         4801      Precinct 18  38.911860 -77.018022   \n",
       "2  ...     003100 1         3100      Precinct 38  38.930713 -77.027264   \n",
       "3  ...     007200 2         7200     Precinct 131  38.875548 -77.008217   \n",
       "4  ...     009811 2         9811     Precinct 125  38.826615 -76.994369   \n",
       "\n",
       "                  BID                START_DATE                  END_DATE  \\\n",
       "0     GOLDEN TRIANGLE  2020-02-24T15:55:00.000Z  2020-03-11T15:40:00.000Z   \n",
       "1                 NaN  2020-03-11T11:49:00.000Z  2020-03-11T17:25:00.000Z   \n",
       "2                 NaN  2020-02-25T17:00:00.000Z  2020-02-25T18:00:00.000Z   \n",
       "3  CAPITOL RIVERFRONT  2020-03-07T07:00:00.000Z  2020-03-09T06:00:00.000Z   \n",
       "4                 NaN  2020-02-13T12:40:00.000Z  2020-03-13T12:40:00.000Z   \n",
       "\n",
       "    OBJECTID  OCTO_RECORD_ID  \n",
       "0  420637740     20400331-01  \n",
       "1  420637741     20400332-01  \n",
       "2  420637742     20400333-01  \n",
       "3  420637743     20400335-01  \n",
       "4  420637744     20400338-01  \n",
       "\n",
       "[5 rows x 25 columns]"
      ]
     },
     "execution_count": 4,
     "metadata": {},
     "output_type": "execute_result"
    }
   ],
   "source": [
    "df = pd.read_csv(\"https://opendata.arcgis.com/datasets/dc3289eab3d2400ea49c154863312434_8.csv\")\n",
    "df.head()"
   ]
  },
  {
   "cell_type": "code",
   "execution_count": 8,
   "metadata": {},
   "outputs": [],
   "source": [
    "split_spot = len(df)//2\n",
    "half_df = df[:split_spot].copy()"
   ]
  },
  {
   "cell_type": "markdown",
   "metadata": {
    "heading_collapsed": true
   },
   "source": [
    "## Add the Sample Data to GIS "
   ]
  },
  {
   "cell_type": "code",
   "execution_count": 9,
   "metadata": {
    "hidden": true
   },
   "outputs": [],
   "source": [
    "half_df.to_csv(\"./myuploaddata.csv\")"
   ]
  },
  {
   "cell_type": "code",
   "execution_count": 10,
   "metadata": {
    "hidden": true
   },
   "outputs": [
    {
     "data": {
      "text/html": [
       "<div class=\"item_container\" style=\"height: auto; overflow: hidden; border: 1px solid #cfcfcf; border-radius: 2px; background: #f6fafa; line-height: 1.21429em; padding: 10px;\">\n",
       "                    <div class=\"item_left\" style=\"width: 210px; float: left;\">\n",
       "                       <a href='https://geosaurus.maps.arcgis.com/home/item.html?id=6a419e3a50cb4fdc807919ef8e8056ef' target='_blank'>\n",
       "                        <img src='http://static.arcgis.com/images/desktopapp.png' class=\"itemThumbnail\">\n",
       "                       </a>\n",
       "                    </div>\n",
       "\n",
       "                    <div class=\"item_right\"     style=\"float: none; width: auto; overflow: hidden;\">\n",
       "                        <a href='https://geosaurus.maps.arcgis.com/home/item.html?id=6a419e3a50cb4fdc807919ef8e8056ef' target='_blank'><b>overwrite_source</b>\n",
       "                        </a>\n",
       "                        <br/><img src='https://geosaurus.maps.arcgis.com/home/js/jsapi/esri/css/images/item_type_icons/layers16.png' style=\"vertical-align:middle;\">CSV by andrew57\n",
       "                        <br/>Last Modified: March 26, 2020\n",
       "                        <br/>0 comments, 0 views\n",
       "                    </div>\n",
       "                </div>\n",
       "                "
      ],
      "text/plain": [
       "<Item title:\"overwrite_source\" type:CSV owner:andrew57>"
      ]
     },
     "execution_count": 10,
     "metadata": {},
     "output_type": "execute_result"
    }
   ],
   "source": [
    "item = gis.content.add({\n",
    "    'title' : 'overwrite_source',\n",
    "    'type' : 'CSV',\n",
    "    'tags' : \"demo, data\"\n",
    "},\n",
    "data=\"./myuploaddata.csv\")\n",
    "item"
   ]
  },
  {
   "cell_type": "code",
   "execution_count": 15,
   "metadata": {
    "hidden": true
   },
   "outputs": [
    {
     "data": {
      "text/html": [
       "<div class=\"item_container\" style=\"height: auto; overflow: hidden; border: 1px solid #cfcfcf; border-radius: 2px; background: #f6fafa; line-height: 1.21429em; padding: 10px;\">\n",
       "                    <div class=\"item_left\" style=\"width: 210px; float: left;\">\n",
       "                       <a href='https://geosaurus.maps.arcgis.com/home/item.html?id=58cef8e6fb864e6c8caa8543b96fde8b' target='_blank'>\n",
       "                        <img src='http://static.arcgis.com/images/desktopapp.png' class=\"itemThumbnail\">\n",
       "                       </a>\n",
       "                    </div>\n",
       "\n",
       "                    <div class=\"item_right\"     style=\"float: none; width: auto; overflow: hidden;\">\n",
       "                        <a href='https://geosaurus.maps.arcgis.com/home/item.html?id=58cef8e6fb864e6c8caa8543b96fde8b' target='_blank'><b>overwrite_source</b>\n",
       "                        </a>\n",
       "                        <br/><img src='https://geosaurus.maps.arcgis.com/home/js/jsapi/esri/css/images/item_type_icons/featureshosted16.png' style=\"vertical-align:middle;\">Feature Layer Collection by andrew57\n",
       "                        <br/>Last Modified: March 26, 2020\n",
       "                        <br/>0 comments, 0 views\n",
       "                    </div>\n",
       "                </div>\n",
       "                "
      ],
      "text/plain": [
       "<Item title:\"overwrite_source\" type:Feature Layer Collection owner:andrew57>"
      ]
     },
     "execution_count": 15,
     "metadata": {},
     "output_type": "execute_result"
    }
   ],
   "source": [
    "crime_locations = item.publish()\n",
    "crime_locations"
   ]
  },
  {
   "cell_type": "markdown",
   "metadata": {
    "heading_collapsed": true,
    "hidden": true
   },
   "source": [
    "### OH NO WE FORGOT HALF THE DATA"
   ]
  },
  {
   "cell_type": "markdown",
   "metadata": {
    "hidden": true
   },
   "source": [
    "<img src=\"./img/shame.jpg\"/>\n",
    "\n",
    "- how do we fix this?"
   ]
  },
  {
   "cell_type": "markdown",
   "metadata": {
    "heading_collapsed": true,
    "hidden": true
   },
   "source": [
    "### Enter Overwriting Data\n",
    "\n",
    "- new data can be uploaded to the service and republished.  \n",
    "- the `overwrite` parameter needs to be set to `True`\n",
    "- the csv file needs to the same exact file name and same column names \n",
    "    + if you do not have this, you will fail "
   ]
  },
  {
   "cell_type": "code",
   "execution_count": 20,
   "metadata": {
    "hidden": true
   },
   "outputs": [],
   "source": [
    "import os\n",
    "with tempfile.TemporaryDirectory() as tmp:\n",
    "    fp = os.path.join(tmp, \"myuploaddata.csv\") # same name CHECK\n",
    "    df.to_csv(fp)\n",
    "    flc = FeatureLayerCollection.fromitem(crime_locations)\n",
    "    flc.manager.overwrite(fp)"
   ]
  },
  {
   "cell_type": "markdown",
   "metadata": {
    "hidden": true
   },
   "source": [
    "**What Happened Here?**\n",
    "\n",
    "1. Write the data to a temporary folder\n",
    "2. Access the item's `Feature Service`\n",
    "3. Access the manager (owners and admins only)\n",
    "4. Call `overwrite` and pass in the new dataset"
   ]
  },
  {
   "cell_type": "code",
   "execution_count": 25,
   "metadata": {
    "hidden": true
   },
   "outputs": [
    {
     "name": "stdout",
     "output_type": "stream",
     "text": [
      "2216 1108 True\n"
     ]
    }
   ],
   "source": [
    "new_count = crime_locations.layers[0].query(return_count_only=True) \n",
    "old_count = len(half_df)\n",
    "print(new_count, old_count, new_count > old_count)"
   ]
  },
  {
   "cell_type": "markdown",
   "metadata": {
    "hidden": true
   },
   "source": [
    "**Shame No More!**"
   ]
  }
 ],
 "metadata": {
  "kernelspec": {
   "display_name": "Python 3",
   "language": "python",
   "name": "python3"
  },
  "language_info": {
   "codemirror_mode": {
    "name": "ipython",
    "version": 3
   },
   "file_extension": ".py",
   "mimetype": "text/x-python",
   "name": "python",
   "nbconvert_exporter": "python",
   "pygments_lexer": "ipython3",
   "version": "3.6.9"
  }
 },
 "nbformat": 4,
 "nbformat_minor": 4
}
