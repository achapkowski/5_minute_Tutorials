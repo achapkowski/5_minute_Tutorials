{
 "cells": [
  {
   "cell_type": "markdown",
   "metadata": {},
   "source": [
    "# A 5-Minute Tutorial"
   ]
  },
  {
   "cell_type": "markdown",
   "metadata": {},
   "source": [
    "## Adding Items to ArcGIS Enterprise and Online"
   ]
  },
  {
   "cell_type": "markdown",
   "metadata": {
    "heading_collapsed": true
   },
   "source": [
    "### Setup the Environment"
   ]
  },
  {
   "cell_type": "code",
   "execution_count": 2,
   "metadata": {
    "hidden": true
   },
   "outputs": [],
   "source": [
    "import os\n",
    "from arcgis.gis import GIS"
   ]
  },
  {
   "cell_type": "markdown",
   "metadata": {
    "heading_collapsed": true
   },
   "source": [
    "### Connecting to the GIS"
   ]
  },
  {
   "cell_type": "code",
   "execution_count": 4,
   "metadata": {
    "hidden": true
   },
   "outputs": [],
   "source": [
    "gis = GIS(profile='your_online_profile')"
   ]
  },
  {
   "cell_type": "markdown",
   "metadata": {
    "heading_collapsed": true
   },
   "source": [
    "### Tutorial Data"
   ]
  },
  {
   "cell_type": "markdown",
   "metadata": {
    "hidden": true
   },
   "source": [
    "In this 5-minute tutorial, we will use data from the `NYC Open Data` site.  Specifically the following dataset [here](https://data.cityofnewyork.us/City-Government/Facilities-Database-Shapefile/2fpa-bnsx).\n",
    "\n",
    "The dataset has the following description:\n",
    "\n",
    "**Facilities Database - Shapefile**\n",
    "\n",
    "```The City Planning Facilities Database (FacDB) aggregates information about 35,000+ public and private facilities and program sites that are owned, operated, funded, licensed or certified by a City, State, or Federal agency in the City of New York. It captures facilities that generally help to shape quality of life in the city’s neighborhoods, including schools, day cares, parks, libraries, public safety services, youth programs, community centers, health clinics, workforce development programs, transitional housing, and solid waste and transportation infrastructure sites. To facilitate analysis and mapping, the data is available in coma-separated values (CSV) file format, ESRI Shapefile, and GeoJSon. The data is also complemented with a new interactive web map that enables users to easily filter the data for their needs. Users are strongly encouraged to read the database documentation, particularly with regard to analytical limitations.```"
   ]
  },
  {
   "cell_type": "markdown",
   "metadata": {
    "hidden": true
   },
   "source": [
    "#### Download the Dataset"
   ]
  },
  {
   "cell_type": "code",
   "execution_count": 6,
   "metadata": {
    "hidden": true
   },
   "outputs": [],
   "source": [
    "import requests\n",
    "import tempfile\n",
    "resp = requests.get(\"https://data.cityofnewyork.us/api/geospatial/2fpa-bnsx?method=export&format=Shapefile\",\n",
    "                   allow_redirects=True)\n",
    "temp_folder = tempfile.gettempdir()\n",
    "fp = os.path.join(temp_folder, \"facilities_nyc_db.zip\")\n",
    "with open(fp, 'wb') as writer:\n",
    "    writer.write(resp.content)\n"
   ]
  },
  {
   "cell_type": "markdown",
   "metadata": {
    "heading_collapsed": true
   },
   "source": [
    "### What Type of Items Can I Have?"
   ]
  },
  {
   "cell_type": "markdown",
   "metadata": {
    "hidden": true
   },
   "source": [
    "- ArcGIS Online/Enterprise supports multiple item types\n",
    "- The following are common items:\n",
    "\n",
    "    + Geopackages\n",
    "    + File Geodatabases\n",
    "    + CSV\n",
    "    + XLS/XLSX\n",
    "    + ArcGIS Pro Packages\n",
    "    + Word/PPTX \n",
    "- Complete item type list can be found [here](https://developers.arcgis.com/rest/users-groups-and-items/items-and-item-types.htm)"
   ]
  },
  {
   "cell_type": "markdown",
   "metadata": {
    "hidden": true
   },
   "source": [
    "#### Handling Multi-File Based Formats "
   ]
  },
  {
   "cell_type": "markdown",
   "metadata": {
    "hidden": true
   },
   "source": [
    "When working with **shapefiles or file geodatabases**, you need to ensure all the file are uploaded to the `enterprise` in one file.  The way to do this is to compress (zip) the data into a zip file."
   ]
  },
  {
   "cell_type": "markdown",
   "metadata": {},
   "source": [
    "## Adding the Tutorial Content\n"
   ]
  },
  {
   "cell_type": "markdown",
   "metadata": {},
   "source": [
    "Since we have already downloaded our data, let's upload it!"
   ]
  },
  {
   "cell_type": "markdown",
   "metadata": {
    "heading_collapsed": true
   },
   "source": [
    "### Access the Content Manager"
   ]
  },
  {
   "cell_type": "markdown",
   "metadata": {
    "hidden": true
   },
   "source": [
    "- This provides the add, delete and update Item functionalities\n",
    "\n",
    "#### Parts of an Item\n",
    "\n",
    "- Items require a minimum of 3 pieces to be added:\n",
    "\n",
    "    1. Title\n",
    "    2. Type\n",
    "    3. Tags\n",
    "\n",
    "- Beyond this, the item supports many other properties found [here](https://developers.arcgis.com/rest/users-groups-and-items/common-parameters.htm#ESRI_SECTION1_1FFBA7FE775B4BDA8D97524A6B9F7C98)"
   ]
  },
  {
   "cell_type": "markdown",
   "metadata": {
    "heading_collapsed": true
   },
   "source": [
    "### Adding the Content!"
   ]
  },
  {
   "cell_type": "code",
   "execution_count": 12,
   "metadata": {
    "hidden": true
   },
   "outputs": [],
   "source": [
    "description = (\"The City Planning Facilities Database (FacDB) aggregates \"\n",
    "               \"information about 35,000+ public and private facilities \"\n",
    "               \"and program sites that are owned, operated, funded, \"\n",
    "               \"licensed or certified by a City, State, or Federal agency \"\n",
    "               \"in the City of New York. It captures facilities that gene\"\n",
    "               \"rally help to shape quality of life in the city’s neighbor\"\n",
    "               \"hoods, including schools, day cares, parks, libraries, pub\"\n",
    "               \"lic safety services, youth programs, community centers, \"\n",
    "               \"health clinics, workforce development programs, transitional\"\n",
    "               \" housing, and solid waste and transportation infrastructure s\"\n",
    "               \"ites. To facilitate analysis and mapping, the data is availab\"\n",
    "               \"le in coma-separated values (CSV) file format, ESRI Shapefil\"\n",
    "               \"e, and GeoJSon. The data is also complemented with a new inter\"\n",
    "               \"active web map that enables users to easily filter the data fo\"\n",
    "               \"r their needs. Users are strongly encouraged to read the datab\"\n",
    "               \"ase documentation, particularly with regard to analytical limitations.\")"
   ]
  },
  {
   "cell_type": "code",
   "execution_count": 17,
   "metadata": {
    "hidden": true
   },
   "outputs": [],
   "source": [
    "item_properties = {\n",
    "    \"title\" : \"my first item\",\n",
    "    \"type\" : \"Shapefile\",\n",
    "    \"tags\" : \"NYC, facilities, other stuff\",\n",
    "    \"description\" : description\n",
    "}"
   ]
  },
  {
   "cell_type": "code",
   "execution_count": 18,
   "metadata": {
    "hidden": true
   },
   "outputs": [],
   "source": [
    "item = gis.content.add(item_properties=item_properties,\n",
    "                       data=fp)"
   ]
  },
  {
   "cell_type": "code",
   "execution_count": 20,
   "metadata": {
    "hidden": true
   },
   "outputs": [
    {
     "data": {
      "text/plain": [
       "True"
      ]
     },
     "execution_count": 20,
     "metadata": {},
     "output_type": "execute_result"
    }
   ],
   "source": [
    "item"
   ]
  },
  {
   "cell_type": "markdown",
   "metadata": {
    "heading_collapsed": true
   },
   "source": [
    "### Celebrate Your Success!"
   ]
  },
  {
   "cell_type": "markdown",
   "metadata": {
    "hidden": true
   },
   "source": [
    "<img src=\"./img/add_data_end.gif\" width=500/>"
   ]
  }
 ],
 "metadata": {
  "kernelspec": {
   "display_name": "Python 3",
   "language": "python",
   "name": "python3"
  },
  "language_info": {
   "codemirror_mode": {
    "name": "ipython",
    "version": 3
   },
   "file_extension": ".py",
   "mimetype": "text/x-python",
   "name": "python",
   "nbconvert_exporter": "python",
   "pygments_lexer": "ipython3",
   "version": "3.6.9"
  }
 },
 "nbformat": 4,
 "nbformat_minor": 4
}
