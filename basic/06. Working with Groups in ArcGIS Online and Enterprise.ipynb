{
 "cells": [
  {
   "cell_type": "markdown",
   "metadata": {},
   "source": [
    "# 5 Minute Tutorial Series"
   ]
  },
  {
   "cell_type": "markdown",
   "metadata": {
    "heading_collapsed": true
   },
   "source": [
    "## Groups in Enterprise and ArcGIS Online"
   ]
  },
  {
   "cell_type": "markdown",
   "metadata": {
    "hidden": true
   },
   "source": [
    "<img src=\"./img/welcome_group.jpg\" width=350/>"
   ]
  },
  {
   "cell_type": "markdown",
   "metadata": {
    "hidden": true
   },
   "source": [
    "A **group** is a collection of maps and apps usually related to a specific area of interest"
   ]
  },
  {
   "cell_type": "markdown",
   "metadata": {
    "hidden": true
   },
   "source": [
    "- It can be about cats 🐱\n",
    "- It can be about emergency management 🏥\n",
    "- It can be about whatever you want, the site doesn't judge\n",
    "\n",
    "**Get it? 👍**\n",
    "\n",
    "\n"
   ]
  },
  {
   "cell_type": "markdown",
   "metadata": {
    "heading_collapsed": true
   },
   "source": [
    "## I Need This Now! How do I do it?"
   ]
  },
  {
   "cell_type": "markdown",
   "metadata": {
    "heading_collapsed": true,
    "hidden": true
   },
   "source": [
    "### Setup the Environment"
   ]
  },
  {
   "cell_type": "code",
   "execution_count": 2,
   "metadata": {
    "hidden": true
   },
   "outputs": [],
   "source": [
    "from arcgis.gis import GIS"
   ]
  },
  {
   "cell_type": "markdown",
   "metadata": {
    "heading_collapsed": true,
    "hidden": true
   },
   "source": [
    "### Connect to Site"
   ]
  },
  {
   "cell_type": "code",
   "execution_count": 3,
   "metadata": {
    "hidden": true
   },
   "outputs": [],
   "source": [
    "gis = GIS(profile='your_online_profile')"
   ]
  },
  {
   "cell_type": "markdown",
   "metadata": {
    "heading_collapsed": true,
    "hidden": true
   },
   "source": [
    "### The `GroupManager`"
   ]
  },
  {
   "cell_type": "markdown",
   "metadata": {
    "hidden": true
   },
   "source": [
    "In the `ArcGIS API for Python` you can create new groups in one line of code!"
   ]
  },
  {
   "cell_type": "markdown",
   "metadata": {
    "hidden": true
   },
   "source": [
    "#### Ensure Group Does Not Exists"
   ]
  },
  {
   "cell_type": "code",
   "execution_count": 11,
   "metadata": {
    "hidden": true
   },
   "outputs": [
    {
     "data": {
      "text/plain": [
       "[]"
      ]
     },
     "execution_count": 11,
     "metadata": {},
     "output_type": "execute_result"
    }
   ],
   "source": [
    "gis.groups.search(\"OSM Iceland Data\")"
   ]
  },
  {
   "cell_type": "markdown",
   "metadata": {
    "heading_collapsed": true,
    "hidden": true
   },
   "source": [
    "#### Create Group"
   ]
  },
  {
   "cell_type": "markdown",
   "metadata": {
    "hidden": true
   },
   "source": [
    "- For readability, expand it over multiple lines"
   ]
  },
  {
   "cell_type": "code",
   "execution_count": 23,
   "metadata": {
    "hidden": true
   },
   "outputs": [
    {
     "data": {
      "text/html": [
       "<div class=\"9item_container\" style=\"height: auto; overflow: hidden; border: 1px solid #cfcfcf; border-radius: 2px; background: #f6fafa; line-height: 1.21429em; padding: 10px;\">\n",
       "                    <div class=\"item_left\" style=\"width: 210px; float: left;\">\n",
       "                       <a href='https://geosaurus.maps.arcgis.com/home/group.html?id=30888946a64d4196b7f0ef51d7eebad4' target='_blank'>\n",
       "                        <img src='data:image/png;base64,iVBORw0KGgoAAAANSUhEUgAAAJYAAACWCAIAAACzY+a1AAACc0lEQVR4Xu3cPUpDQRRA4WvcgoXBFy2yBg2KbkLXkx0IugA3oqBVUoiIVvqKxMI9iGV8djojFiHkvcOcy1eFmUvI6fIXvdOrtsTB+SKbl9ia7e7/ozmQ3lksmlX5/kJE/tDamHAlTIhnQjwT4pkQz4R4JsQzIZ4J8UyIZ0I8E+KZEM+EeCbEMyGeCfFMiGdCPBPimRDPhHgmxDMhngnxTIhnQjwT4pkQz4R4JsQzIZ4J8UyIZ0I8E+KZEM+EeCbEMyGeCfFMiGdCPBPimRDPhHgmxDMhngnxTIhnQjwT4pkQz4R4JsSL3tlVW2K0uoSj83x/ISJOLlszGKcplk44GMfJRbq/ELeP7225nszTFMsmbFbl+wsR6YvR9iyXsOQxIX5MiB8T4seE+DEhfkyIn/i4m3bH58Nz3avybD/Vm1VzLL9brKg3drrjNbbnw6M820/z4WFzLL9brJjtHXRL1uwP+a2CRfrqiMaEeCbEMyGeCfFMiGdCPBPimRDPhHgmxDMhnm9z40Xdq7rjNfqz4WEaLPH9YVM/v1us+LiddMfn/VO9OUib/dYcaI7ld4vlFy/wY0L8mBA/JsSPCfFjQvyYED9x9/jelpvpW/p0lk3YrMr3FyLi+KI11ep+qF2N0+XlyH9+vzb+XcJK+KcleCbEMyGeCfFMiGdCPBPimRDPhHgmxDMhngnxTIhnQjwT4pkQz4R4JsQzIZ4J8UyIZ0I8E+KZEM+EeCbEMyGeCfFMiGdCPBPimRDPhHgmxDMhngnxTIhnQjwT4pkQz4R4JsQzIZ4J8UyIZ0I8E+KZEM+EeCbEMyGeCfFMiGdCPBPimRDvC3V2ZIkEwvzcAAAAAElFTkSuQmCC' ' class=\"itemThumbnail\">\n",
       "                       </a>\n",
       "                    </div>\n",
       "\n",
       "                    <div class=\"item_right\" style=\"float: none; width: auto; overflow: hidden;\">\n",
       "                        <a href='https://geosaurus.maps.arcgis.com/home/group.html?id=30888946a64d4196b7f0ef51d7eebad4' target='_blank'><b>OSM Iceland Data</b>\n",
       "                        </a>\n",
       "                        <br/>\n",
       "                        <br/><b>Summary</b>: None\n",
       "                        <br/><b>Description</b>: None\n",
       "                        <br/><b>Owner</b>: andrew57\n",
       "                        <br/><b>Created</b>: March 24, 2020\n",
       "\n",
       "                    </div>\n",
       "                </div>\n",
       "                "
      ],
      "text/plain": [
       "<Group title:\"OSM Iceland Data\" owner:andrew57>"
      ]
     },
     "execution_count": 23,
     "metadata": {},
     "output_type": "execute_result"
    }
   ],
   "source": [
    "grp = gis.groups.create(\n",
    "    title=\"OSM Iceland Data\",\n",
    "    auto_join=True,\n",
    "    tags='iceland, working group, geothermal',\n",
    "    thumbnail=(\"https://upload.wikimedia.org/wikipedia/commons/t\"\n",
    "               \"humb/c/ce/Flag_of_Iceland.svg/2000px-Flag_of_Iceland.svg.png\")\n",
    ")\n",
    "grp"
   ]
  },
  {
   "cell_type": "markdown",
   "metadata": {
    "heading_collapsed": true,
    "hidden": true
   },
   "source": [
    "#### Add Content You Own to the Group"
   ]
  },
  {
   "cell_type": "code",
   "execution_count": 24,
   "metadata": {
    "hidden": true
   },
   "outputs": [],
   "source": [
    "for i in gis.content.search(\"Iceland\"):\n",
    "    if i.type == \"Feature Service\":\n",
    "        # share with group\n",
    "        i.share(groups=[grp.id])"
   ]
  },
  {
   "cell_type": "code",
   "execution_count": 30,
   "metadata": {
    "hidden": true
   },
   "outputs": [
    {
     "name": "stdout",
     "output_type": "stream",
     "text": [
      "{'everyone': False, 'org': False, 'groups': [<Group title:\"OSM Iceland Data\" owner:andrew57>]}\n"
     ]
    }
   ],
   "source": [
    "for i in gis.content.search(\"Iceland\"):\n",
    "    if i.type == \"Feature Service\":\n",
    "        print(i.shared_with)"
   ]
  },
  {
   "cell_type": "markdown",
   "metadata": {
    "heading_collapsed": true,
    "hidden": true
   },
   "source": [
    "#### Adding Public Content to the Group"
   ]
  },
  {
   "cell_type": "markdown",
   "metadata": {
    "hidden": true
   },
   "source": [
    "- Public content can be added to any group"
   ]
  },
  {
   "cell_type": "code",
   "execution_count": 37,
   "metadata": {
    "hidden": true
   },
   "outputs": [],
   "source": [
    "bbox = \"-24.5319933, 62.0079024,-6.766673400000002, 66.91284349999998\"\n",
    "search_result = gis.content.advanced_search(\"Iceland type: 'Web Map'\",\n",
    "                                            bbox=bbox)\n",
    "for wm in search_result['results']:\n",
    "    wm.share(groups=[grp])"
   ]
  },
  {
   "cell_type": "code",
   "execution_count": 45,
   "metadata": {
    "hidden": true
   },
   "outputs": [
    {
     "name": "stdout",
     "output_type": "stream",
     "text": [
      "The groups has 101 items\n"
     ]
    },
    {
     "data": {
      "text/html": [
       "<div class=\"item_container\" style=\"height: auto; overflow: hidden; border: 1px solid #cfcfcf; border-radius: 2px; background: #f6fafa; line-height: 1.21429em; padding: 10px;\">\n",
       "                    <div class=\"item_left\" style=\"width: 210px; float: left;\">\n",
       "                       <a href='https://geosaurus.maps.arcgis.com/home/item.html?id=857255d20f7f463f95e3b00c6cbefde6' target='_blank'>\n",
       "                        <img src='data:image/png;base64,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' width='200' height='133' class=\"itemThumbnail\">\n",
       "                       </a>\n",
       "                    </div>\n",
       "\n",
       "                    <div class=\"item_right\"     style=\"float: none; width: auto; overflow: hidden;\">\n",
       "                        <a href='https://geosaurus.maps.arcgis.com/home/item.html?id=857255d20f7f463f95e3b00c6cbefde6' target='_blank'><b> Icelandic Eyjafjallajökull eruption</b>\n",
       "                        </a>\n",
       "                        <br/><img src='https://geosaurus.maps.arcgis.com/home/js/jsapi/esri/css/images/item_type_icons/maps16.png' style=\"vertical-align:middle;\">Web Map by isaachathaway28\n",
       "                        <br/>Last Modified: November 06, 2018\n",
       "                        <br/>0 comments, 73 views\n",
       "                    </div>\n",
       "                </div>\n",
       "                "
      ],
      "text/plain": [
       "<Item title:\" Icelandic Eyjafjallajökull eruption\" type:Web Map owner:isaachathaway28>"
      ]
     },
     "execution_count": 45,
     "metadata": {},
     "output_type": "execute_result"
    }
   ],
   "source": [
    "print(f\"The groups has {len(grp.content(1000))} items\")\n",
    "grp.content(1)[0]"
   ]
  },
  {
   "cell_type": "markdown",
   "metadata": {
    "heading_collapsed": true,
    "hidden": true
   },
   "source": [
    "#### Adding/Removing Users "
   ]
  },
  {
   "cell_type": "markdown",
   "metadata": {
    "hidden": true
   },
   "source": [
    "**Adding Users**"
   ]
  },
  {
   "cell_type": "code",
   "execution_count": 55,
   "metadata": {
    "hidden": true
   },
   "outputs": [
    {
     "data": {
      "text/plain": [
       "{'notAdded': []}"
      ]
     },
     "execution_count": 55,
     "metadata": {},
     "output_type": "execute_result"
    }
   ],
   "source": [
    "users = [u for u in gis.users.search(\"*\") if u.username != gis.users.me.username][:-4]\n",
    "grp.add_users(usernames=users)"
   ]
  },
  {
   "cell_type": "markdown",
   "metadata": {
    "hidden": true
   },
   "source": [
    "**Removing Users**"
   ]
  },
  {
   "cell_type": "markdown",
   "metadata": {
    "hidden": true
   },
   "source": [
    "- remove users by the username or `User` object"
   ]
  },
  {
   "cell_type": "code",
   "execution_count": 56,
   "metadata": {
    "hidden": true
   },
   "outputs": [
    {
     "data": {
      "text/plain": [
       "{'notRemoved': []}"
      ]
     },
     "execution_count": 56,
     "metadata": {},
     "output_type": "execute_result"
    }
   ],
   "source": [
    "grp.remove_users(grp.get_members()['users'])"
   ]
  },
  {
   "cell_type": "markdown",
   "metadata": {
    "heading_collapsed": true,
    "hidden": true
   },
   "source": [
    "#### Deleting Groups"
   ]
  },
  {
   "cell_type": "markdown",
   "metadata": {
    "hidden": true
   },
   "source": [
    "- delete groups does not effect content\n",
    "- all items remain and only group goes away\n",
    "- once the event or group is no longer needed, erase it"
   ]
  },
  {
   "cell_type": "code",
   "execution_count": 57,
   "metadata": {
    "hidden": true
   },
   "outputs": [
    {
     "data": {
      "text/plain": [
       "True"
      ]
     },
     "execution_count": 57,
     "metadata": {},
     "output_type": "execute_result"
    }
   ],
   "source": [
    "grp.delete()"
   ]
  }
 ],
 "metadata": {
  "kernelspec": {
   "display_name": "Python 3",
   "language": "python",
   "name": "python3"
  },
  "language_info": {
   "codemirror_mode": {
    "name": "ipython",
    "version": 3
   },
   "file_extension": ".py",
   "mimetype": "text/x-python",
   "name": "python",
   "nbconvert_exporter": "python",
   "pygments_lexer": "ipython3",
   "version": "3.6.9"
  }
 },
 "nbformat": 4,
 "nbformat_minor": 4
}
